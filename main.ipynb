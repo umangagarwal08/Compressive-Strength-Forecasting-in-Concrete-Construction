{
 "cells": [
  {
   "cell_type": "code",
   "execution_count": 2,
   "metadata": {},
   "outputs": [],
   "source": [
    "import numpy as np \n",
    "import pandas as pd \n",
    "import seaborn as sns \n",
    "import matplotlib.pyplot as plt\n",
    "from scipy import stats\n",
    "from sklearn.metrics import r2_score,mean_squared_error,mean_absolute_error,mean_absolute_percentage_error\n",
    "import statsmodels.api as sma"
   ]
  },
  {
   "cell_type": "code",
   "execution_count": 3,
   "metadata": {},
   "outputs": [],
   "source": [
    "df=pd.read_excel(r\"Concrete_Data.xls\")"
   ]
  },
  {
   "cell_type": "code",
   "execution_count": 177,
   "metadata": {},
   "outputs": [
    {
     "data": {
      "text/html": [
       "<div>\n",
       "<style scoped>\n",
       "    .dataframe tbody tr th:only-of-type {\n",
       "        vertical-align: middle;\n",
       "    }\n",
       "\n",
       "    .dataframe tbody tr th {\n",
       "        vertical-align: top;\n",
       "    }\n",
       "\n",
       "    .dataframe thead th {\n",
       "        text-align: right;\n",
       "    }\n",
       "</style>\n",
       "<table border=\"1\" class=\"dataframe\">\n",
       "  <thead>\n",
       "    <tr style=\"text-align: right;\">\n",
       "      <th></th>\n",
       "      <th>Cement</th>\n",
       "      <th>Slag</th>\n",
       "      <th>Fly_Ash</th>\n",
       "      <th>Water</th>\n",
       "      <th>Superplasticizer</th>\n",
       "      <th>Coarse Aggregate</th>\n",
       "      <th>Fine Aggregate</th>\n",
       "      <th>Age</th>\n",
       "      <th>CCS</th>\n",
       "    </tr>\n",
       "  </thead>\n",
       "  <tbody>\n",
       "    <tr>\n",
       "      <th>0</th>\n",
       "      <td>540.0</td>\n",
       "      <td>0.0</td>\n",
       "      <td>0.0</td>\n",
       "      <td>162.0</td>\n",
       "      <td>2.5</td>\n",
       "      <td>1040.0</td>\n",
       "      <td>676.0</td>\n",
       "      <td>28</td>\n",
       "      <td>79.986111</td>\n",
       "    </tr>\n",
       "    <tr>\n",
       "      <th>1</th>\n",
       "      <td>540.0</td>\n",
       "      <td>0.0</td>\n",
       "      <td>0.0</td>\n",
       "      <td>162.0</td>\n",
       "      <td>2.5</td>\n",
       "      <td>1055.0</td>\n",
       "      <td>676.0</td>\n",
       "      <td>28</td>\n",
       "      <td>61.887366</td>\n",
       "    </tr>\n",
       "    <tr>\n",
       "      <th>2</th>\n",
       "      <td>332.5</td>\n",
       "      <td>142.5</td>\n",
       "      <td>0.0</td>\n",
       "      <td>228.0</td>\n",
       "      <td>0.0</td>\n",
       "      <td>932.0</td>\n",
       "      <td>594.0</td>\n",
       "      <td>270</td>\n",
       "      <td>40.269535</td>\n",
       "    </tr>\n",
       "    <tr>\n",
       "      <th>3</th>\n",
       "      <td>332.5</td>\n",
       "      <td>142.5</td>\n",
       "      <td>0.0</td>\n",
       "      <td>228.0</td>\n",
       "      <td>0.0</td>\n",
       "      <td>932.0</td>\n",
       "      <td>594.0</td>\n",
       "      <td>365</td>\n",
       "      <td>41.052780</td>\n",
       "    </tr>\n",
       "    <tr>\n",
       "      <th>4</th>\n",
       "      <td>198.6</td>\n",
       "      <td>132.4</td>\n",
       "      <td>0.0</td>\n",
       "      <td>192.0</td>\n",
       "      <td>0.0</td>\n",
       "      <td>978.4</td>\n",
       "      <td>825.5</td>\n",
       "      <td>360</td>\n",
       "      <td>44.296075</td>\n",
       "    </tr>\n",
       "  </tbody>\n",
       "</table>\n",
       "</div>"
      ],
      "text/plain": [
       "   Cement   Slag  Fly_Ash  Water  Superplasticizer  Coarse Aggregate  \\\n",
       "0   540.0    0.0      0.0  162.0               2.5            1040.0   \n",
       "1   540.0    0.0      0.0  162.0               2.5            1055.0   \n",
       "2   332.5  142.5      0.0  228.0               0.0             932.0   \n",
       "3   332.5  142.5      0.0  228.0               0.0             932.0   \n",
       "4   198.6  132.4      0.0  192.0               0.0             978.4   \n",
       "\n",
       "   Fine Aggregate  Age        CCS  \n",
       "0           676.0   28  79.986111  \n",
       "1           676.0   28  61.887366  \n",
       "2           594.0  270  40.269535  \n",
       "3           594.0  365  41.052780  \n",
       "4           825.5  360  44.296075  "
      ]
     },
     "execution_count": 177,
     "metadata": {},
     "output_type": "execute_result"
    }
   ],
   "source": [
    "df.head()"
   ]
  },
  {
   "cell_type": "code",
   "execution_count": 178,
   "metadata": {},
   "outputs": [
    {
     "data": {
      "text/html": [
       "<div>\n",
       "<style scoped>\n",
       "    .dataframe tbody tr th:only-of-type {\n",
       "        vertical-align: middle;\n",
       "    }\n",
       "\n",
       "    .dataframe tbody tr th {\n",
       "        vertical-align: top;\n",
       "    }\n",
       "\n",
       "    .dataframe thead th {\n",
       "        text-align: right;\n",
       "    }\n",
       "</style>\n",
       "<table border=\"1\" class=\"dataframe\">\n",
       "  <thead>\n",
       "    <tr style=\"text-align: right;\">\n",
       "      <th></th>\n",
       "      <th>count</th>\n",
       "      <th>mean</th>\n",
       "      <th>std</th>\n",
       "      <th>min</th>\n",
       "      <th>25%</th>\n",
       "      <th>50%</th>\n",
       "      <th>75%</th>\n",
       "      <th>max</th>\n",
       "    </tr>\n",
       "  </thead>\n",
       "  <tbody>\n",
       "    <tr>\n",
       "      <th>Cement</th>\n",
       "      <td>1030.0</td>\n",
       "      <td>281.165631</td>\n",
       "      <td>104.507142</td>\n",
       "      <td>102.000000</td>\n",
       "      <td>192.375000</td>\n",
       "      <td>272.900000</td>\n",
       "      <td>350.000000</td>\n",
       "      <td>540.000000</td>\n",
       "    </tr>\n",
       "    <tr>\n",
       "      <th>Slag</th>\n",
       "      <td>1030.0</td>\n",
       "      <td>73.895485</td>\n",
       "      <td>86.279104</td>\n",
       "      <td>0.000000</td>\n",
       "      <td>0.000000</td>\n",
       "      <td>22.000000</td>\n",
       "      <td>142.950000</td>\n",
       "      <td>359.400000</td>\n",
       "    </tr>\n",
       "    <tr>\n",
       "      <th>Fly_Ash</th>\n",
       "      <td>1030.0</td>\n",
       "      <td>54.187136</td>\n",
       "      <td>63.996469</td>\n",
       "      <td>0.000000</td>\n",
       "      <td>0.000000</td>\n",
       "      <td>0.000000</td>\n",
       "      <td>118.270000</td>\n",
       "      <td>200.100000</td>\n",
       "    </tr>\n",
       "    <tr>\n",
       "      <th>Water</th>\n",
       "      <td>1030.0</td>\n",
       "      <td>181.566359</td>\n",
       "      <td>21.355567</td>\n",
       "      <td>121.750000</td>\n",
       "      <td>164.900000</td>\n",
       "      <td>185.000000</td>\n",
       "      <td>192.000000</td>\n",
       "      <td>247.000000</td>\n",
       "    </tr>\n",
       "    <tr>\n",
       "      <th>Superplasticizer</th>\n",
       "      <td>1030.0</td>\n",
       "      <td>6.203112</td>\n",
       "      <td>5.973492</td>\n",
       "      <td>0.000000</td>\n",
       "      <td>0.000000</td>\n",
       "      <td>6.350000</td>\n",
       "      <td>10.160000</td>\n",
       "      <td>32.200000</td>\n",
       "    </tr>\n",
       "    <tr>\n",
       "      <th>Coarse Aggregate</th>\n",
       "      <td>1030.0</td>\n",
       "      <td>972.918592</td>\n",
       "      <td>77.753818</td>\n",
       "      <td>801.000000</td>\n",
       "      <td>932.000000</td>\n",
       "      <td>968.000000</td>\n",
       "      <td>1029.400000</td>\n",
       "      <td>1145.000000</td>\n",
       "    </tr>\n",
       "    <tr>\n",
       "      <th>Fine Aggregate</th>\n",
       "      <td>1030.0</td>\n",
       "      <td>773.578883</td>\n",
       "      <td>80.175427</td>\n",
       "      <td>594.000000</td>\n",
       "      <td>730.950000</td>\n",
       "      <td>779.510000</td>\n",
       "      <td>824.000000</td>\n",
       "      <td>992.600000</td>\n",
       "    </tr>\n",
       "    <tr>\n",
       "      <th>Age</th>\n",
       "      <td>1030.0</td>\n",
       "      <td>45.662136</td>\n",
       "      <td>63.169912</td>\n",
       "      <td>1.000000</td>\n",
       "      <td>7.000000</td>\n",
       "      <td>28.000000</td>\n",
       "      <td>56.000000</td>\n",
       "      <td>365.000000</td>\n",
       "    </tr>\n",
       "    <tr>\n",
       "      <th>CCS</th>\n",
       "      <td>1030.0</td>\n",
       "      <td>35.817836</td>\n",
       "      <td>16.705679</td>\n",
       "      <td>2.331808</td>\n",
       "      <td>23.707115</td>\n",
       "      <td>34.442774</td>\n",
       "      <td>46.136287</td>\n",
       "      <td>82.599225</td>\n",
       "    </tr>\n",
       "  </tbody>\n",
       "</table>\n",
       "</div>"
      ],
      "text/plain": [
       "                   count        mean         std         min         25%  \\\n",
       "Cement            1030.0  281.165631  104.507142  102.000000  192.375000   \n",
       "Slag              1030.0   73.895485   86.279104    0.000000    0.000000   \n",
       "Fly_Ash           1030.0   54.187136   63.996469    0.000000    0.000000   \n",
       "Water             1030.0  181.566359   21.355567  121.750000  164.900000   \n",
       "Superplasticizer  1030.0    6.203112    5.973492    0.000000    0.000000   \n",
       "Coarse Aggregate  1030.0  972.918592   77.753818  801.000000  932.000000   \n",
       "Fine Aggregate    1030.0  773.578883   80.175427  594.000000  730.950000   \n",
       "Age               1030.0   45.662136   63.169912    1.000000    7.000000   \n",
       "CCS               1030.0   35.817836   16.705679    2.331808   23.707115   \n",
       "\n",
       "                         50%          75%          max  \n",
       "Cement            272.900000   350.000000   540.000000  \n",
       "Slag               22.000000   142.950000   359.400000  \n",
       "Fly_Ash             0.000000   118.270000   200.100000  \n",
       "Water             185.000000   192.000000   247.000000  \n",
       "Superplasticizer    6.350000    10.160000    32.200000  \n",
       "Coarse Aggregate  968.000000  1029.400000  1145.000000  \n",
       "Fine Aggregate    779.510000   824.000000   992.600000  \n",
       "Age                28.000000    56.000000   365.000000  \n",
       "CCS                34.442774    46.136287    82.599225  "
      ]
     },
     "execution_count": 178,
     "metadata": {},
     "output_type": "execute_result"
    }
   ],
   "source": [
    "df.describe().T"
   ]
  },
  {
   "cell_type": "code",
   "execution_count": 179,
   "metadata": {},
   "outputs": [
    {
     "data": {
      "image/png": "[encoded data removed]",
      "text/plain": [
       "<Figure size 640x480 with 2 Axes>"
      ]
     },
     "metadata": {},
     "output_type": "display_data"
    }
   ],
   "source": [
    "sns.heatmap(df.corr(),annot=True,vmax=1,vmin=-1,cmap='RdBu',mask=np.triu(df.corr()))\n",
    "plt.show()"
   ]
  },
  {
   "cell_type": "markdown",
   "metadata": {},
   "source": [
    "## Treat the defects"
   ]
  },
  {
   "cell_type": "code",
   "execution_count": 180,
   "metadata": {},
   "outputs": [
    {
     "data": {
      "text/plain": [
       "Cement              0\n",
       "Slag                0\n",
       "Fly_Ash             0\n",
       "Water               0\n",
       "Superplasticizer    0\n",
       "Coarse Aggregate    0\n",
       "Fine Aggregate      0\n",
       "Age                 0\n",
       "CCS                 0\n",
       "dtype: int64"
      ]
     },
     "execution_count": 180,
     "metadata": {},
     "output_type": "execute_result"
    }
   ],
   "source": [
    "# Missing Value\n",
    "df.isnull().sum()"
   ]
  },
  {
   "cell_type": "code",
   "execution_count": 181,
   "metadata": {},
   "outputs": [],
   "source": [
    "# DUPLICATES\n",
    "\n",
    "df.drop_duplicates(inplace=True)\n"
   ]
  },
  {
   "cell_type": "code",
   "execution_count": 182,
   "metadata": {},
   "outputs": [],
   "source": [
    "# Capping the outliers \n",
    "for i in df.columns:\n",
    "    q3,q1=np.percentile(df[i],[75,25])\n",
    "    iqr=q3-q1\n",
    "    ul=q3+1.5*iqr\n",
    "    ll=q1-1.5*iqr\n",
    "\n",
    "    df[i]=df[i].apply(lambda x:ul if x > ul else ll if x < ll else x )\n"
   ]
  },
  {
   "cell_type": "code",
   "execution_count": 183,
   "metadata": {},
   "outputs": [
    {
     "data": {
      "image/png": "[encoded data removed]",
      "text/plain": [
       "<Figure size 1000x1700 with 1 Axes>"
      ]
     },
     "metadata": {},
     "output_type": "display_data"
    },
    {
     "data": {
      "image/png": "[encoded data removed]",
      "text/plain": [
       "<Figure size 640x480 with 1 Axes>"
      ]
     },
     "metadata": {},
     "output_type": "display_data"
    },
    {
     "data": {
      "image/png": "[encoded data removed]",
      "text/plain": [
       "<Figure size 640x480 with 1 Axes>"
      ]
     },
     "metadata": {},
     "output_type": "display_data"
    },
    {
     "data": {
      "image/png": "[encoded data removed]",
      "text/plain": [
       "<Figure size 640x480 with 1 Axes>"
      ]
     },
     "metadata": {},
     "output_type": "display_data"
    },
    {
     "data": {
      "image/png": "[encoded data removed]",
      "text/plain": [
       "<Figure size 640x480 with 1 Axes>"
      ]
     },
     "metadata": {},
     "output_type": "display_data"
    },
    {
     "data": {
      "image/png": "[encoded data removed]",
      "text/plain": [
       "<Figure size 640x480 with 1 Axes>"
      ]
     },
     "metadata": {},
     "output_type": "display_data"
    },
    {
     "data": {
      "image/png": "[encoded data removed]",
      "text/plain": [
       "<Figure size 640x480 with 1 Axes>"
      ]
     },
     "metadata": {},
     "output_type": "display_data"
    },
    {
     "data": {
      "image/png": "[encoded data removed]",
      "text/plain": [
       "<Figure size 640x480 with 1 Axes>"
      ]
     },
     "metadata": {},
     "output_type": "display_data"
    },
    {
     "data": {
      "image/png": "[encoded data removed]",
      "text/plain": [
       "<Figure size 640x480 with 1 Axes>"
      ]
     },
     "metadata": {},
     "output_type": "display_data"
    }
   ],
   "source": [
    "# Check for the outliers\n",
    "\n",
    "t=1\n",
    "plt.figure(figsize=(10,17))\n",
    "for i in df.columns:\n",
    "    plt.subplot(5,2,t)\n",
    "    sns.boxplot(x=df[i])\n",
    "    t=+1\n",
    "    plt.tight_layout()\n",
    "    plt.show()\n"
   ]
  },
  {
   "cell_type": "markdown",
   "metadata": {},
   "source": [
    "## LINEAR Regression Analysis"
   ]
  },
  {
   "cell_type": "code",
   "execution_count": 184,
   "metadata": {},
   "outputs": [],
   "source": [
    "x=df.drop(columns='CCS')\n",
    "y=df['CCS']"
   ]
  },
  {
   "cell_type": "code",
   "execution_count": 185,
   "metadata": {},
   "outputs": [],
   "source": [
    "df['Cemwat']=df['Cement']/df['Water']"
   ]
  },
  {
   "cell_type": "code",
   "execution_count": 186,
   "metadata": {},
   "outputs": [],
   "source": [
    "model=sma.OLS(y,sma.add_constant(x))"
   ]
  },
  {
   "cell_type": "markdown",
   "metadata": {},
   "source": [
    "##### Assumption 1 : Target Variable must be Numeric\n",
    "\n",
    "Th Target is numeric"
   ]
  },
  {
   "cell_type": "markdown",
   "metadata": {},
   "source": [
    "#### Assumption 2 : The data is not Multicolinerar\n",
    "\n",
    "We treat the multicolineariry"
   ]
  },
  {
   "cell_type": "code",
   "execution_count": 187,
   "metadata": {},
   "outputs": [],
   "source": [
    "x=df.drop(columns=['Water','Cement','Coarse Aggregate','CCS','Fine Aggregate'])"
   ]
  },
  {
   "cell_type": "code",
   "execution_count": 188,
   "metadata": {},
   "outputs": [
    {
     "data": {
      "text/html": [
       "<div>\n",
       "<style scoped>\n",
       "    .dataframe tbody tr th:only-of-type {\n",
       "        vertical-align: middle;\n",
       "    }\n",
       "\n",
       "    .dataframe tbody tr th {\n",
       "        vertical-align: top;\n",
       "    }\n",
       "\n",
       "    .dataframe thead th {\n",
       "        text-align: right;\n",
       "    }\n",
       "</style>\n",
       "<table border=\"1\" class=\"dataframe\">\n",
       "  <thead>\n",
       "    <tr style=\"text-align: right;\">\n",
       "      <th></th>\n",
       "      <th>VIF</th>\n",
       "    </tr>\n",
       "  </thead>\n",
       "  <tbody>\n",
       "    <tr>\n",
       "      <th>Superplasticizer</th>\n",
       "      <td>3.478069</td>\n",
       "    </tr>\n",
       "    <tr>\n",
       "      <th>Cemwat</th>\n",
       "      <td>3.260167</td>\n",
       "    </tr>\n",
       "    <tr>\n",
       "      <th>Fly_Ash</th>\n",
       "      <td>2.115637</td>\n",
       "    </tr>\n",
       "    <tr>\n",
       "      <th>Age</th>\n",
       "      <td>1.970481</td>\n",
       "    </tr>\n",
       "    <tr>\n",
       "      <th>Slag</th>\n",
       "      <td>1.484503</td>\n",
       "    </tr>\n",
       "  </tbody>\n",
       "</table>\n",
       "</div>"
      ],
      "text/plain": [
       "                       VIF\n",
       "Superplasticizer  3.478069\n",
       "Cemwat            3.260167\n",
       "Fly_Ash           2.115637\n",
       "Age               1.970481\n",
       "Slag              1.484503"
      ]
     },
     "execution_count": 188,
     "metadata": {},
     "output_type": "execute_result"
    }
   ],
   "source": [
    "from statsmodels.stats.outliers_influence import variance_inflation_factor as vif\n",
    "vif_list=[]\n",
    "#x.drop(columns=['Cement','Water'],inplace=True)\n",
    "for i in range(x.shape[1]):\n",
    "    vif_list.append(vif(x.values,i))\n",
    "\n",
    "vif_df=pd.DataFrame({'VIF':vif_list},index=x.columns)\n",
    "vif_df.sort_values(ascending=False,by='VIF')"
   ]
  },
  {
   "cell_type": "markdown",
   "metadata": {},
   "source": [
    "### Fit a mdoel"
   ]
  },
  {
   "cell_type": "code",
   "execution_count": 191,
   "metadata": {},
   "outputs": [],
   "source": [
    "model=sma.OLS(y,sma.add_constant(x)).fit()"
   ]
  },
  {
   "cell_type": "code",
   "execution_count": 192,
   "metadata": {},
   "outputs": [
    {
     "name": "stdout",
     "output_type": "stream",
     "text": [
      "                            OLS Regression Results                            \n",
      "==============================================================================\n",
      "Dep. Variable:                    CCS   R-squared:                       0.712\n",
      "Model:                            OLS   Adj. R-squared:                  0.710\n",
      "Method:                 Least Squares   F-statistic:                     493.3\n",
      "Date:                Fri, 30 Aug 2024   Prob (F-statistic):          7.66e-267\n",
      "Time:                        11:56:04   Log-Likelihood:                -3600.7\n",
      "No. Observations:                1005   AIC:                             7213.\n",
      "Df Residuals:                     999   BIC:                             7243.\n",
      "Df Model:                           5                                         \n",
      "Covariance Type:            nonrobust                                         \n",
      "====================================================================================\n",
      "                       coef    std err          t      P>|t|      [0.025      0.975]\n",
      "------------------------------------------------------------------------------------\n",
      "const              -14.4833      1.309    -11.066      0.000     -17.052     -11.915\n",
      "Slag                 0.0811      0.004     19.363      0.000       0.073       0.089\n",
      "Fly_Ash              0.0732      0.007     10.818      0.000       0.060       0.086\n",
      "Superplasticizer     0.2039      0.069      2.975      0.003       0.069       0.338\n",
      "Age                  0.2462      0.008     31.632      0.000       0.231       0.261\n",
      "Cemwat              18.7498      0.621     30.188      0.000      17.531      19.969\n",
      "==============================================================================\n",
      "Omnibus:                        4.696   Durbin-Watson:                   1.266\n",
      "Prob(Omnibus):                  0.096   Jarque-Bera (JB):                4.998\n",
      "Skew:                           0.099   Prob(JB):                       0.0822\n",
      "Kurtosis:                       3.284   Cond. No.                         618.\n",
      "==============================================================================\n",
      "\n",
      "Notes:\n",
      "[1] Standard Errors assume that the covariance matrix of the errors is correctly specified.\n"
     ]
    }
   ],
   "source": [
    "print(model.summary())"
   ]
  },
  {
   "cell_type": "markdown",
   "metadata": {},
   "source": [
    "#### Assumption 3 Liner Retaion "
   ]
  },
  {
   "cell_type": "code",
   "execution_count": 193,
   "metadata": {},
   "outputs": [
    {
     "data": {
      "text/plain": [
       "(np.float64(1.2250395980368607), np.float64(0.011777871160917037))"
      ]
     },
     "execution_count": 193,
     "metadata": {},
     "output_type": "execute_result"
    }
   ],
   "source": [
    "from statsmodels.stats.diagnostic import linear_rainbow\n",
    "\n",
    "# H0: variables are linear\n",
    "# H1: variables are not linear\n",
    "\n",
    "linear_rainbow(model)\n",
    "\n",
    "# Raject Ho"
   ]
  },
  {
   "cell_type": "markdown",
   "metadata": {},
   "source": [
    "#### Assumption 4: Auto Correlation\n",
    "\n"
   ]
  },
  {
   "cell_type": "code",
   "execution_count": 194,
   "metadata": {},
   "outputs": [],
   "source": [
    "# Durbin watson \n",
    "d=1.266\n",
    "\n",
    "# Positive Correlation"
   ]
  },
  {
   "cell_type": "markdown",
   "metadata": {},
   "source": [
    "#### Assumption 5 Homocedasticity"
   ]
  },
  {
   "cell_type": "code",
   "execution_count": 195,
   "metadata": {},
   "outputs": [
    {
     "data": {
      "image/png": "[encoded data removed]",
      "text/plain": [
       "<Figure size 640x480 with 1 Axes>"
      ]
     },
     "metadata": {},
     "output_type": "display_data"
    }
   ],
   "source": [
    "# resid plot\n",
    "\n",
    "sns.residplot(x=model.fittedvalues,y=model.resid)\n",
    "plt.xlabel('Fitted/Predicted Values')\n",
    "plt.ylabel('Residuals')\n",
    "plt.show()\n"
   ]
  },
  {
   "cell_type": "code",
   "execution_count": 196,
   "metadata": {},
   "outputs": [
    {
     "name": "stdout",
     "output_type": "stream",
     "text": [
      "Rejct H0\n"
     ]
    }
   ],
   "source": [
    "# we can make the final conclusion by performing Breusch-Pagan Test \n",
    "\n",
    "# H0 : The variance is same (Homoscedastic)\n",
    "# H1 : The variance is not same (HetroScedastic)\n",
    "\n",
    "_,p_value,_,_=sma.stats.diagnostic.het_breuschpagan(resid=model.resid ,exog_het=model.model.exog)\n",
    "\n",
    "\n",
    "if p_value>0.05:\n",
    "    print('Failed to reject H0')\n",
    "else:\n",
    "    print(\"Rejct H0\")"
   ]
  },
  {
   "cell_type": "markdown",
   "metadata": {},
   "source": [
    "### Assumption 6 \n",
    "Residual must be normal"
   ]
  },
  {
   "cell_type": "code",
   "execution_count": 197,
   "metadata": {},
   "outputs": [
    {
     "data": {
      "image/png": "[encoded data removed]",
      "text/plain": [
       "<Figure size 640x480 with 1 Axes>"
      ]
     },
     "metadata": {},
     "output_type": "display_data"
    },
    {
     "data": {
      "image/png": "[encoded data removed]",
      "text/plain": [
       "<Figure size 500x500 with 1 Axes>"
      ]
     },
     "metadata": {},
     "output_type": "display_data"
    }
   ],
   "source": [
    "## QQ PLOT \n",
    "stats.probplot(model.resid,plot=plt)\n",
    "sns.displot(model.resid,kind='kde')\n",
    "plt.show()"
   ]
  },
  {
   "cell_type": "code",
   "execution_count": 198,
   "metadata": {},
   "outputs": [
    {
     "name": "stdout",
     "output_type": "stream",
     "text": [
      "Failed to reject H0\n"
     ]
    }
   ],
   "source": [
    "# Shapiro Test \n",
    "\n",
    "# H0 : Residue is Normal\n",
    "# H1 : Residue is Not Normal\n",
    "\n",
    "_,p_value=stats.shapiro(model.resid)\n",
    "\n",
    "if p_value>0.05:\n",
    "    print('Failed to reject H0')\n",
    "else:\n",
    "    print(\"Rejct H0\")"
   ]
  },
  {
   "cell_type": "code",
   "execution_count": 199,
   "metadata": {},
   "outputs": [
    {
     "name": "stdout",
     "output_type": "stream",
     "text": [
      "                            OLS Regression Results                            \n",
      "==============================================================================\n",
      "Dep. Variable:                    CCS   R-squared:                       0.712\n",
      "Model:                            OLS   Adj. R-squared:                  0.710\n",
      "Method:                 Least Squares   F-statistic:                     493.3\n",
      "Date:                Fri, 30 Aug 2024   Prob (F-statistic):          7.66e-267\n",
      "Time:                        11:56:08   Log-Likelihood:                -3600.7\n",
      "No. Observations:                1005   AIC:                             7213.\n",
      "Df Residuals:                     999   BIC:                             7243.\n",
      "Df Model:                           5                                         \n",
      "Covariance Type:            nonrobust                                         \n",
      "====================================================================================\n",
      "                       coef    std err          t      P>|t|      [0.025      0.975]\n",
      "------------------------------------------------------------------------------------\n",
      "const              -14.4833      1.309    -11.066      0.000     -17.052     -11.915\n",
      "Slag                 0.0811      0.004     19.363      0.000       0.073       0.089\n",
      "Fly_Ash              0.0732      0.007     10.818      0.000       0.060       0.086\n",
      "Superplasticizer     0.2039      0.069      2.975      0.003       0.069       0.338\n",
      "Age                  0.2462      0.008     31.632      0.000       0.231       0.261\n",
      "Cemwat              18.7498      0.621     30.188      0.000      17.531      19.969\n",
      "==============================================================================\n",
      "Omnibus:                        4.696   Durbin-Watson:                   1.266\n",
      "Prob(Omnibus):                  0.096   Jarque-Bera (JB):                4.998\n",
      "Skew:                           0.099   Prob(JB):                       0.0822\n",
      "Kurtosis:                       3.284   Cond. No.                         618.\n",
      "==============================================================================\n",
      "\n",
      "Notes:\n",
      "[1] Standard Errors assume that the covariance matrix of the errors is correctly specified.\n"
     ]
    }
   ],
   "source": [
    "print(model.summary())"
   ]
  },
  {
   "cell_type": "markdown",
   "metadata": {},
   "source": [
    "#### Predecting Modelling"
   ]
  },
  {
   "cell_type": "code",
   "execution_count": 200,
   "metadata": {},
   "outputs": [],
   "source": [
    "from sklearn.linear_model import LinearRegression ,Ridge,Lasso,ElasticNet\n",
    "from sklearn.metrics import mean_squared_error,mean_absolute_error,mean_absolute_percentage_error,r2_score\n",
    "from sklearn.model_selection import train_test_split"
   ]
  },
  {
   "cell_type": "code",
   "execution_count": 201,
   "metadata": {},
   "outputs": [],
   "source": [
    "x_train ,x_test , y_train,y_test=train_test_split(x,y,train_size=0.8,random_state=2)"
   ]
  },
  {
   "cell_type": "markdown",
   "metadata": {},
   "source": [
    "## linear Regression"
   ]
  },
  {
   "cell_type": "code",
   "execution_count": 202,
   "metadata": {},
   "outputs": [],
   "source": [
    "model_lr=LinearRegression()\n",
    "model_lr.fit(x_train,y_train)\n",
    "y_lr_train = model_lr.predict(x_train)\n",
    "y_lr_test=model_lr.predict(x_test)"
   ]
  },
  {
   "cell_type": "code",
   "execution_count": 203,
   "metadata": {},
   "outputs": [
    {
     "name": "stdout",
     "output_type": "stream",
     "text": [
      "R-Squared 0.713053912579235\n",
      "MSE 76.24917904365789\n",
      "RMSE 8.732077590336557\n",
      "MAE 6.832892808268411\n",
      "MPAE 0.2548672701668985\n"
     ]
    }
   ],
   "source": [
    "# Train score\n",
    "\n",
    "print('R-Squared',r2_score(y_train,y_lr_train))\n",
    "print('MSE',mean_squared_error(y_train,y_lr_train))\n",
    "print('RMSE',mean_squared_error(y_train,y_lr_train)**0.5)\n",
    "print('MAE',mean_absolute_error(y_train,y_lr_train))\n",
    "print('MPAE',mean_absolute_percentage_error(y_train,y_lr_train))\n",
    "\n"
   ]
  },
  {
   "cell_type": "code",
   "execution_count": 204,
   "metadata": {},
   "outputs": [
    {
     "name": "stdout",
     "output_type": "stream",
     "text": [
      "R-Squared 0.7022495753418871\n",
      "MSE 74.7860924690671\n",
      "RMSE 8.64789526237842\n",
      "MAE 6.737833931881046\n",
      "MAPE 0.24561267571769127\n"
     ]
    }
   ],
   "source": [
    "# Test Score (2-76)\n",
    "\n",
    "print('R-Squared',r2_score(y_test,y_lr_test))\n",
    "print('MSE',mean_squared_error(y_test,y_lr_test))\n",
    "print('RMSE',mean_squared_error(y_test,y_lr_test)**0.5)\n",
    "print('MAE',mean_absolute_error(y_test,y_lr_test))\n",
    "print('MAPE',mean_absolute_percentage_error(y_test,y_lr_test))"
   ]
  },
  {
   "cell_type": "code",
   "execution_count": 205,
   "metadata": {},
   "outputs": [
    {
     "data": {
      "text/plain": [
       "np.float64(-15.20803202027168)"
      ]
     },
     "execution_count": 205,
     "metadata": {},
     "output_type": "execute_result"
    }
   ],
   "source": [
    "model_lr.intercept_"
   ]
  },
  {
   "cell_type": "code",
   "execution_count": 206,
   "metadata": {},
   "outputs": [
    {
     "data": {
      "text/html": [
       "<div>\n",
       "<style scoped>\n",
       "    .dataframe tbody tr th:only-of-type {\n",
       "        vertical-align: middle;\n",
       "    }\n",
       "\n",
       "    .dataframe tbody tr th {\n",
       "        vertical-align: top;\n",
       "    }\n",
       "\n",
       "    .dataframe thead th {\n",
       "        text-align: right;\n",
       "    }\n",
       "</style>\n",
       "<table border=\"1\" class=\"dataframe\">\n",
       "  <thead>\n",
       "    <tr style=\"text-align: right;\">\n",
       "      <th></th>\n",
       "      <th>Coef</th>\n",
       "    </tr>\n",
       "  </thead>\n",
       "  <tbody>\n",
       "    <tr>\n",
       "      <th>Slag</th>\n",
       "      <td>0.081387</td>\n",
       "    </tr>\n",
       "    <tr>\n",
       "      <th>Fly_Ash</th>\n",
       "      <td>0.078953</td>\n",
       "    </tr>\n",
       "    <tr>\n",
       "      <th>Superplasticizer</th>\n",
       "      <td>0.196101</td>\n",
       "    </tr>\n",
       "    <tr>\n",
       "      <th>Age</th>\n",
       "      <td>0.239964</td>\n",
       "    </tr>\n",
       "    <tr>\n",
       "      <th>Cemwat</th>\n",
       "      <td>19.171895</td>\n",
       "    </tr>\n",
       "  </tbody>\n",
       "</table>\n",
       "</div>"
      ],
      "text/plain": [
       "                       Coef\n",
       "Slag               0.081387\n",
       "Fly_Ash            0.078953\n",
       "Superplasticizer   0.196101\n",
       "Age                0.239964\n",
       "Cemwat            19.171895"
      ]
     },
     "execution_count": 206,
     "metadata": {},
     "output_type": "execute_result"
    }
   ],
   "source": [
    "pd.DataFrame({'Coef':model_lr.coef_},index=x.columns)"
   ]
  },
  {
   "cell_type": "markdown",
   "metadata": {},
   "source": [
    "# Regularization\n",
    "\n",
    "#### Ridge Regularisation (L2 Penalty)"
   ]
  },
  {
   "cell_type": "code",
   "execution_count": 207,
   "metadata": {},
   "outputs": [],
   "source": [
    "model_ridge=Ridge(alpha=0.1)\n",
    "model_ridge.fit(x_train,y_train)\n",
    "y_ridge_train = model_ridge.predict(x_train)\n",
    "y_ridge_test=model_ridge.predict(x_test)"
   ]
  },
  {
   "cell_type": "code",
   "execution_count": 208,
   "metadata": {},
   "outputs": [
    {
     "name": "stdout",
     "output_type": "stream",
     "text": [
      "R-Squared 0.7130537986977157\n",
      "MSE 76.24920930499529\n",
      "RMSE 8.732079323104852\n",
      "MAE 6.8329409010188265\n",
      "MPAE 0.25489726050310135\n",
      "\n",
      "\n",
      "R-Squared 0.7022915090371958\n",
      "MSE 74.77555996615455\n",
      "RMSE 8.647286277564456\n",
      "MAE 6.737369065821287\n",
      "MAPE 0.24563623336617735\n"
     ]
    }
   ],
   "source": [
    "# Train score\n",
    "\n",
    "print('R-Squared',r2_score(y_train,y_ridge_train))\n",
    "print('MSE',mean_squared_error(y_train,y_ridge_train))\n",
    "print('RMSE',mean_squared_error(y_train,y_ridge_train)**0.5)\n",
    "print('MAE',mean_absolute_error(y_train,y_ridge_train))\n",
    "print('MPAE',mean_absolute_percentage_error(y_train,y_ridge_train))\n",
    "\n",
    "\n",
    "print('\\n')\n",
    "\n",
    "\n",
    "print('R-Squared',r2_score(y_test,y_ridge_test))\n",
    "print('MSE',mean_squared_error(y_test,y_ridge_test))\n",
    "print('RMSE',mean_squared_error(y_test,y_ridge_test)**0.5)\n",
    "print('MAE',mean_absolute_error(y_test,y_ridge_test))\n",
    "print('MAPE',mean_absolute_percentage_error(y_test,y_ridge_test))"
   ]
  },
  {
   "cell_type": "code",
   "execution_count": 209,
   "metadata": {},
   "outputs": [
    {
     "data": {
      "text/html": [
       "<div>\n",
       "<style scoped>\n",
       "    .dataframe tbody tr th:only-of-type {\n",
       "        vertical-align: middle;\n",
       "    }\n",
       "\n",
       "    .dataframe tbody tr th {\n",
       "        vertical-align: top;\n",
       "    }\n",
       "\n",
       "    .dataframe thead th {\n",
       "        text-align: right;\n",
       "    }\n",
       "</style>\n",
       "<table border=\"1\" class=\"dataframe\">\n",
       "  <thead>\n",
       "    <tr style=\"text-align: right;\">\n",
       "      <th></th>\n",
       "      <th>Coef_lr</th>\n",
       "      <th>Coef_l2</th>\n",
       "    </tr>\n",
       "  </thead>\n",
       "  <tbody>\n",
       "    <tr>\n",
       "      <th>Slag</th>\n",
       "      <td>0.081387</td>\n",
       "      <td>0.081339</td>\n",
       "    </tr>\n",
       "    <tr>\n",
       "      <th>Fly_Ash</th>\n",
       "      <td>0.078953</td>\n",
       "      <td>0.078862</td>\n",
       "    </tr>\n",
       "    <tr>\n",
       "      <th>Superplasticizer</th>\n",
       "      <td>0.196101</td>\n",
       "      <td>0.196952</td>\n",
       "    </tr>\n",
       "    <tr>\n",
       "      <th>Age</th>\n",
       "      <td>0.239964</td>\n",
       "      <td>0.239957</td>\n",
       "    </tr>\n",
       "    <tr>\n",
       "      <th>Cemwat</th>\n",
       "      <td>19.171895</td>\n",
       "      <td>19.159188</td>\n",
       "    </tr>\n",
       "  </tbody>\n",
       "</table>\n",
       "</div>"
      ],
      "text/plain": [
       "                    Coef_lr    Coef_l2\n",
       "Slag               0.081387   0.081339\n",
       "Fly_Ash            0.078953   0.078862\n",
       "Superplasticizer   0.196101   0.196952\n",
       "Age                0.239964   0.239957\n",
       "Cemwat            19.171895  19.159188"
      ]
     },
     "execution_count": 209,
     "metadata": {},
     "output_type": "execute_result"
    }
   ],
   "source": [
    "pd.DataFrame({'Coef_lr':model_lr.coef_,'Coef_l2':model_ridge.coef_},index=x.columns)"
   ]
  },
  {
   "cell_type": "markdown",
   "metadata": {},
   "source": [
    "### Lasso Regression (l1 )"
   ]
  },
  {
   "cell_type": "code",
   "execution_count": 210,
   "metadata": {},
   "outputs": [],
   "source": [
    "model_Lasso=Lasso(alpha=.1)\n",
    "model_Lasso.fit(x_train,y_train)\n",
    "y_lasso_train = model_Lasso.predict(x_train)\n",
    "y_lasso_test=model_Lasso.predict(x_test)"
   ]
  },
  {
   "cell_type": "code",
   "execution_count": 211,
   "metadata": {},
   "outputs": [
    {
     "name": "stdout",
     "output_type": "stream",
     "text": [
      "R-Squared 0.712873405783417\n",
      "MSE 76.29714448245043\n",
      "RMSE 8.734823666362729\n",
      "MAE 6.841206392567325\n",
      "MPAE 0.25651314669727937\n",
      "\n",
      "\n",
      "R-Squared 0.7037417455153137\n",
      "MSE 74.41130349371099\n",
      "RMSE 8.626198669965293\n",
      "MAE 6.7189047367917025\n",
      "MAPE 0.2465958897044756\n"
     ]
    }
   ],
   "source": [
    "# Train score\n",
    "\n",
    "print('R-Squared',r2_score(y_train,y_lasso_train))\n",
    "print('MSE',mean_squared_error(y_train,y_lasso_train))\n",
    "print('RMSE',mean_squared_error(y_train,y_lasso_train)**0.5)\n",
    "print('MAE',mean_absolute_error(y_train,y_lasso_train))\n",
    "print('MPAE',mean_absolute_percentage_error(y_train,y_lasso_train))\n",
    "\n",
    "\n",
    "print('\\n')\n",
    "\n",
    "\n",
    "print('R-Squared',r2_score(y_test,y_lasso_test))\n",
    "print('MSE',mean_squared_error(y_test,y_lasso_test))\n",
    "print('RMSE',mean_squared_error(y_test,y_lasso_test)**0.5)\n",
    "print('MAE',mean_absolute_error(y_test,y_lasso_test))\n",
    "print('MAPE',mean_absolute_percentage_error(y_test,y_lasso_test))"
   ]
  },
  {
   "cell_type": "code",
   "execution_count": 212,
   "metadata": {},
   "outputs": [
    {
     "data": {
      "text/html": [
       "<div>\n",
       "<style scoped>\n",
       "    .dataframe tbody tr th:only-of-type {\n",
       "        vertical-align: middle;\n",
       "    }\n",
       "\n",
       "    .dataframe tbody tr th {\n",
       "        vertical-align: top;\n",
       "    }\n",
       "\n",
       "    .dataframe thead th {\n",
       "        text-align: right;\n",
       "    }\n",
       "</style>\n",
       "<table border=\"1\" class=\"dataframe\">\n",
       "  <thead>\n",
       "    <tr style=\"text-align: right;\">\n",
       "      <th></th>\n",
       "      <th>Coef_lr</th>\n",
       "      <th>Coef_l2</th>\n",
       "      <th>coef_l1</th>\n",
       "    </tr>\n",
       "  </thead>\n",
       "  <tbody>\n",
       "    <tr>\n",
       "      <th>Slag</th>\n",
       "      <td>0.081387</td>\n",
       "      <td>0.081339</td>\n",
       "      <td>0.079472</td>\n",
       "    </tr>\n",
       "    <tr>\n",
       "      <th>Fly_Ash</th>\n",
       "      <td>0.078953</td>\n",
       "      <td>0.078862</td>\n",
       "      <td>0.075480</td>\n",
       "    </tr>\n",
       "    <tr>\n",
       "      <th>Superplasticizer</th>\n",
       "      <td>0.196101</td>\n",
       "      <td>0.196952</td>\n",
       "      <td>0.226244</td>\n",
       "    </tr>\n",
       "    <tr>\n",
       "      <th>Age</th>\n",
       "      <td>0.239964</td>\n",
       "      <td>0.239957</td>\n",
       "      <td>0.239585</td>\n",
       "    </tr>\n",
       "    <tr>\n",
       "      <th>Cemwat</th>\n",
       "      <td>19.171895</td>\n",
       "      <td>19.159188</td>\n",
       "      <td>18.667916</td>\n",
       "    </tr>\n",
       "  </tbody>\n",
       "</table>\n",
       "</div>"
      ],
      "text/plain": [
       "                    Coef_lr    Coef_l2    coef_l1\n",
       "Slag               0.081387   0.081339   0.079472\n",
       "Fly_Ash            0.078953   0.078862   0.075480\n",
       "Superplasticizer   0.196101   0.196952   0.226244\n",
       "Age                0.239964   0.239957   0.239585\n",
       "Cemwat            19.171895  19.159188  18.667916"
      ]
     },
     "execution_count": 212,
     "metadata": {},
     "output_type": "execute_result"
    }
   ],
   "source": [
    "pd.DataFrame({'Coef_lr':model_lr.coef_,'Coef_l2':model_ridge.coef_,'coef_l1':model_Lasso.coef_},index=x.columns)"
   ]
  },
  {
   "cell_type": "markdown",
   "metadata": {},
   "source": [
    "### Elastic Net"
   ]
  },
  {
   "cell_type": "code",
   "execution_count": 213,
   "metadata": {},
   "outputs": [],
   "source": [
    "model_ec=ElasticNet(alpha=.1,l1_ratio=0.1)\n",
    "model_ec.fit(x_train,y_train)\n",
    "y_ec_train = model_ec.predict(x_train)\n",
    "y_ec_test=model_ec.predict(x_test)"
   ]
  },
  {
   "cell_type": "code",
   "execution_count": 214,
   "metadata": {},
   "outputs": [
    {
     "name": "stdout",
     "output_type": "stream",
     "text": [
      "R-Squared 0.6855842993456807\n",
      "MSE 83.54858318097234\n",
      "RMSE 9.140491408068405\n",
      "MAE 7.173411012501002\n",
      "MPAE 0.28256391475731113\n",
      "\n",
      "\n",
      "R-Squared 0.6867445729087639\n",
      "MSE 78.68049009092813\n",
      "RMSE 8.870202370348048\n",
      "MAE 6.949316411057378\n",
      "MAPE 0.2680384677168505\n"
     ]
    }
   ],
   "source": [
    "# Train score\n",
    "\n",
    "print('R-Squared',r2_score(y_train,y_ec_train))\n",
    "print('MSE',mean_squared_error(y_train,y_ec_train))\n",
    "print('RMSE',mean_squared_error(y_train,y_ec_train)**0.5)\n",
    "print('MAE',mean_absolute_error(y_train,y_ec_train))\n",
    "print('MPAE',mean_absolute_percentage_error(y_train,y_ec_train))\n",
    "\n",
    "\n",
    "print('\\n')\n",
    "\n",
    "\n",
    "print('R-Squared',r2_score(y_test,y_ec_test))\n",
    "print('MSE',mean_squared_error(y_test,y_ec_test))\n",
    "print('RMSE',mean_squared_error(y_test,y_ec_test)**0.5)\n",
    "print('MAE',mean_absolute_error(y_test,y_ec_test))\n",
    "print('MAPE',mean_absolute_percentage_error(y_test,y_ec_test))"
   ]
  },
  {
   "cell_type": "code",
   "execution_count": 215,
   "metadata": {},
   "outputs": [
    {
     "data": {
      "text/html": [
       "<div>\n",
       "<style scoped>\n",
       "    .dataframe tbody tr th:only-of-type {\n",
       "        vertical-align: middle;\n",
       "    }\n",
       "\n",
       "    .dataframe tbody tr th {\n",
       "        vertical-align: top;\n",
       "    }\n",
       "\n",
       "    .dataframe thead th {\n",
       "        text-align: right;\n",
       "    }\n",
       "</style>\n",
       "<table border=\"1\" class=\"dataframe\">\n",
       "  <thead>\n",
       "    <tr style=\"text-align: right;\">\n",
       "      <th></th>\n",
       "      <th>Coef_lr</th>\n",
       "      <th>Coef_l2</th>\n",
       "      <th>coef_l1</th>\n",
       "      <th>coef</th>\n",
       "    </tr>\n",
       "  </thead>\n",
       "  <tbody>\n",
       "    <tr>\n",
       "      <th>Slag</th>\n",
       "      <td>0.081387</td>\n",
       "      <td>0.081339</td>\n",
       "      <td>0.079472</td>\n",
       "      <td>0.057462</td>\n",
       "    </tr>\n",
       "    <tr>\n",
       "      <th>Fly_Ash</th>\n",
       "      <td>0.078953</td>\n",
       "      <td>0.078862</td>\n",
       "      <td>0.075480</td>\n",
       "      <td>0.034551</td>\n",
       "    </tr>\n",
       "    <tr>\n",
       "      <th>Superplasticizer</th>\n",
       "      <td>0.196101</td>\n",
       "      <td>0.196952</td>\n",
       "      <td>0.226244</td>\n",
       "      <td>0.612124</td>\n",
       "    </tr>\n",
       "    <tr>\n",
       "      <th>Age</th>\n",
       "      <td>0.239964</td>\n",
       "      <td>0.239957</td>\n",
       "      <td>0.239585</td>\n",
       "      <td>0.236761</td>\n",
       "    </tr>\n",
       "    <tr>\n",
       "      <th>Cemwat</th>\n",
       "      <td>19.171895</td>\n",
       "      <td>19.159188</td>\n",
       "      <td>18.667916</td>\n",
       "      <td>12.931118</td>\n",
       "    </tr>\n",
       "  </tbody>\n",
       "</table>\n",
       "</div>"
      ],
      "text/plain": [
       "                    Coef_lr    Coef_l2    coef_l1       coef\n",
       "Slag               0.081387   0.081339   0.079472   0.057462\n",
       "Fly_Ash            0.078953   0.078862   0.075480   0.034551\n",
       "Superplasticizer   0.196101   0.196952   0.226244   0.612124\n",
       "Age                0.239964   0.239957   0.239585   0.236761\n",
       "Cemwat            19.171895  19.159188  18.667916  12.931118"
      ]
     },
     "execution_count": 215,
     "metadata": {},
     "output_type": "execute_result"
    }
   ],
   "source": [
    "pd.DataFrame({'Coef_lr':model_lr.coef_,'Coef_l2':model_ridge.coef_,'coef_l1':model_Lasso.coef_,'coef':model_ec.coef_},index=x.columns)"
   ]
  },
  {
   "cell_type": "markdown",
   "metadata": {},
   "source": [
    "## Hyperparameter Tuning"
   ]
  },
  {
   "cell_type": "code",
   "execution_count": 216,
   "metadata": {},
   "outputs": [],
   "source": [
    "from sklearn.model_selection import GridSearchCV"
   ]
  },
  {
   "cell_type": "code",
   "execution_count": 217,
   "metadata": {},
   "outputs": [],
   "source": [
    "grid={'alpha':[0.01,0.05,0.1,0.5,1],'l1_ratio':[0.05,0.1,0.2,0.3]}\n",
    "\n",
    "gscv=GridSearchCV(estimator=ElasticNet(),param_grid=grid,cv=5,scoring='r2',verbose=3)"
   ]
  },
  {
   "cell_type": "code",
   "execution_count": 218,
   "metadata": {},
   "outputs": [
    {
     "name": "stdout",
     "output_type": "stream",
     "text": [
      "Fitting 5 folds for each of 20 candidates, totalling 100 fits\n",
      "[CV 1/5] END .........alpha=0.01, l1_ratio=0.05;, score=0.718 total time=   0.0s\n",
      "[CV 2/5] END .........alpha=0.01, l1_ratio=0.05;, score=0.708 total time=   0.0s\n",
      "[CV 3/5] END .........alpha=0.01, l1_ratio=0.05;, score=0.721 total time=   0.0s\n",
      "[CV 4/5] END .........alpha=0.01, l1_ratio=0.05;, score=0.676 total time=   0.0s\n",
      "[CV 5/5] END .........alpha=0.01, l1_ratio=0.05;, score=0.710 total time=   0.0s\n",
      "[CV 1/5] END ..........alpha=0.01, l1_ratio=0.1;, score=0.718 total time=   0.0s\n",
      "[CV 2/5] END ..........alpha=0.01, l1_ratio=0.1;, score=0.707 total time=   0.0s\n",
      "[CV 3/5] END ..........alpha=0.01, l1_ratio=0.1;, score=0.722 total time=   0.0s\n",
      "[CV 4/5] END ..........alpha=0.01, l1_ratio=0.1;, score=0.676 total time=   0.0s\n",
      "[CV 5/5] END ..........alpha=0.01, l1_ratio=0.1;, score=0.710 total time=   0.0s\n",
      "[CV 1/5] END ..........alpha=0.01, l1_ratio=0.2;, score=0.718 total time=   0.0s\n",
      "[CV 2/5] END ..........alpha=0.01, l1_ratio=0.2;, score=0.707 total time=   0.0s\n",
      "[CV 3/5] END ..........alpha=0.01, l1_ratio=0.2;, score=0.722 total time=   0.0s\n",
      "[CV 4/5] END ..........alpha=0.01, l1_ratio=0.2;, score=0.676 total time=   0.0s\n",
      "[CV 5/5] END ..........alpha=0.01, l1_ratio=0.2;, score=0.710 total time=   0.0s\n",
      "[CV 1/5] END ..........alpha=0.01, l1_ratio=0.3;, score=0.718 total time=   0.0s\n",
      "[CV 2/5] END ..........alpha=0.01, l1_ratio=0.3;, score=0.707 total time=   0.0s\n",
      "[CV 3/5] END ..........alpha=0.01, l1_ratio=0.3;, score=0.723 total time=   0.0s\n",
      "[CV 4/5] END ..........alpha=0.01, l1_ratio=0.3;, score=0.677 total time=   0.0s\n",
      "[CV 5/5] END ..........alpha=0.01, l1_ratio=0.3;, score=0.710 total time=   0.0s\n",
      "[CV 1/5] END .........alpha=0.05, l1_ratio=0.05;, score=0.708 total time=   0.0s\n",
      "[CV 2/5] END .........alpha=0.05, l1_ratio=0.05;, score=0.710 total time=   0.0s\n",
      "[CV 3/5] END .........alpha=0.05, l1_ratio=0.05;, score=0.700 total time=   0.0s\n",
      "[CV 4/5] END .........alpha=0.05, l1_ratio=0.05;, score=0.663 total time=   0.0s\n",
      "[CV 5/5] END .........alpha=0.05, l1_ratio=0.05;, score=0.701 total time=   0.0s\n",
      "[CV 1/5] END ..........alpha=0.05, l1_ratio=0.1;, score=0.708 total time=   0.0s\n",
      "[CV 2/5] END ..........alpha=0.05, l1_ratio=0.1;, score=0.710 total time=   0.0s\n",
      "[CV 3/5] END ..........alpha=0.05, l1_ratio=0.1;, score=0.702 total time=   0.0s\n",
      "[CV 4/5] END ..........alpha=0.05, l1_ratio=0.1;, score=0.664 total time=   0.0s\n",
      "[CV 5/5] END ..........alpha=0.05, l1_ratio=0.1;, score=0.701 total time=   0.0s\n",
      "[CV 1/5] END ..........alpha=0.05, l1_ratio=0.2;, score=0.710 total time=   0.0s\n",
      "[CV 2/5] END ..........alpha=0.05, l1_ratio=0.2;, score=0.710 total time=   0.0s\n",
      "[CV 3/5] END ..........alpha=0.05, l1_ratio=0.2;, score=0.705 total time=   0.0s\n",
      "[CV 4/5] END ..........alpha=0.05, l1_ratio=0.2;, score=0.666 total time=   0.0s\n",
      "[CV 5/5] END ..........alpha=0.05, l1_ratio=0.2;, score=0.703 total time=   0.0s\n",
      "[CV 1/5] END ..........alpha=0.05, l1_ratio=0.3;, score=0.712 total time=   0.0s\n",
      "[CV 2/5] END ..........alpha=0.05, l1_ratio=0.3;, score=0.710 total time=   0.0s\n",
      "[CV 3/5] END ..........alpha=0.05, l1_ratio=0.3;, score=0.707 total time=   0.0s\n",
      "[CV 4/5] END ..........alpha=0.05, l1_ratio=0.3;, score=0.667 total time=   0.0s\n",
      "[CV 5/5] END ..........alpha=0.05, l1_ratio=0.3;, score=0.704 total time=   0.0s\n",
      "[CV 1/5] END ..........alpha=0.1, l1_ratio=0.05;, score=0.688 total time=   0.0s\n",
      "[CV 2/5] END ..........alpha=0.1, l1_ratio=0.05;, score=0.703 total time=   0.0s\n",
      "[CV 3/5] END ..........alpha=0.1, l1_ratio=0.05;, score=0.672 total time=   0.0s\n",
      "[CV 4/5] END ..........alpha=0.1, l1_ratio=0.05;, score=0.641 total time=   0.0s\n",
      "[CV 5/5] END ..........alpha=0.1, l1_ratio=0.05;, score=0.682 total time=   0.0s\n",
      "[CV 1/5] END ...........alpha=0.1, l1_ratio=0.1;, score=0.690 total time=   0.0s\n",
      "[CV 2/5] END ...........alpha=0.1, l1_ratio=0.1;, score=0.703 total time=   0.0s\n",
      "[CV 3/5] END ...........alpha=0.1, l1_ratio=0.1;, score=0.674 total time=   0.0s\n",
      "[CV 4/5] END ...........alpha=0.1, l1_ratio=0.1;, score=0.643 total time=   0.0s\n",
      "[CV 5/5] END ...........alpha=0.1, l1_ratio=0.1;, score=0.684 total time=   0.0s\n",
      "[CV 1/5] END ...........alpha=0.1, l1_ratio=0.2;, score=0.694 total time=   0.0s\n",
      "[CV 2/5] END ...........alpha=0.1, l1_ratio=0.2;, score=0.705 total time=   0.0s\n",
      "[CV 3/5] END ...........alpha=0.1, l1_ratio=0.2;, score=0.680 total time=   0.0s\n",
      "[CV 4/5] END ...........alpha=0.1, l1_ratio=0.2;, score=0.647 total time=   0.0s\n",
      "[CV 5/5] END ...........alpha=0.1, l1_ratio=0.2;, score=0.688 total time=   0.0s\n",
      "[CV 1/5] END ...........alpha=0.1, l1_ratio=0.3;, score=0.698 total time=   0.0s\n",
      "[CV 2/5] END ...........alpha=0.1, l1_ratio=0.3;, score=0.707 total time=   0.0s\n",
      "[CV 3/5] END ...........alpha=0.1, l1_ratio=0.3;, score=0.686 total time=   0.0s\n",
      "[CV 4/5] END ...........alpha=0.1, l1_ratio=0.3;, score=0.652 total time=   0.0s\n",
      "[CV 5/5] END ...........alpha=0.1, l1_ratio=0.3;, score=0.691 total time=   0.0s\n",
      "[CV 1/5] END ..........alpha=0.5, l1_ratio=0.05;, score=0.582 total time=   0.0s\n",
      "[CV 2/5] END ..........alpha=0.5, l1_ratio=0.05;, score=0.631 total time=   0.0s\n",
      "[CV 3/5] END ..........alpha=0.5, l1_ratio=0.05;, score=0.540 total time=   0.0s\n",
      "[CV 4/5] END ..........alpha=0.5, l1_ratio=0.05;, score=0.532 total time=   0.0s\n",
      "[CV 5/5] END ..........alpha=0.5, l1_ratio=0.05;, score=0.575 total time=   0.0s\n",
      "[CV 1/5] END ...........alpha=0.5, l1_ratio=0.1;, score=0.585 total time=   0.0s\n",
      "[CV 2/5] END ...........alpha=0.5, l1_ratio=0.1;, score=0.634 total time=   0.0s\n",
      "[CV 3/5] END ...........alpha=0.5, l1_ratio=0.1;, score=0.544 total time=   0.0s\n",
      "[CV 4/5] END ...........alpha=0.5, l1_ratio=0.1;, score=0.536 total time=   0.0s\n",
      "[CV 5/5] END ...........alpha=0.5, l1_ratio=0.1;, score=0.578 total time=   0.0s\n",
      "[CV 1/5] END ...........alpha=0.5, l1_ratio=0.2;, score=0.593 total time=   0.0s\n",
      "[CV 2/5] END ...........alpha=0.5, l1_ratio=0.2;, score=0.639 total time=   0.0s\n",
      "[CV 3/5] END ...........alpha=0.5, l1_ratio=0.2;, score=0.553 total time=   0.0s\n",
      "[CV 4/5] END ...........alpha=0.5, l1_ratio=0.2;, score=0.543 total time=   0.0s\n",
      "[CV 5/5] END ...........alpha=0.5, l1_ratio=0.2;, score=0.586 total time=   0.0s\n",
      "[CV 1/5] END ...........alpha=0.5, l1_ratio=0.3;, score=0.602 total time=   0.0s\n",
      "[CV 2/5] END ...........alpha=0.5, l1_ratio=0.3;, score=0.646 total time=   0.0s\n",
      "[CV 3/5] END ...........alpha=0.5, l1_ratio=0.3;, score=0.563 total time=   0.0s\n",
      "[CV 4/5] END ...........alpha=0.5, l1_ratio=0.3;, score=0.552 total time=   0.0s\n",
      "[CV 5/5] END ...........alpha=0.5, l1_ratio=0.3;, score=0.595 total time=   0.0s\n",
      "[CV 1/5] END ............alpha=1, l1_ratio=0.05;, score=0.533 total time=   0.0s\n",
      "[CV 2/5] END ............alpha=1, l1_ratio=0.05;, score=0.593 total time=   0.0s\n",
      "[CV 3/5] END ............alpha=1, l1_ratio=0.05;, score=0.484 total time=   0.0s\n",
      "[CV 4/5] END ............alpha=1, l1_ratio=0.05;, score=0.486 total time=   0.0s\n",
      "[CV 5/5] END ............alpha=1, l1_ratio=0.05;, score=0.524 total time=   0.0s\n",
      "[CV 1/5] END .............alpha=1, l1_ratio=0.1;, score=0.535 total time=   0.0s\n",
      "[CV 2/5] END .............alpha=1, l1_ratio=0.1;, score=0.594 total time=   0.0s\n",
      "[CV 3/5] END .............alpha=1, l1_ratio=0.1;, score=0.487 total time=   0.0s\n",
      "[CV 4/5] END .............alpha=1, l1_ratio=0.1;, score=0.488 total time=   0.0s\n",
      "[CV 5/5] END .............alpha=1, l1_ratio=0.1;, score=0.527 total time=   0.0s\n",
      "[CV 1/5] END .............alpha=1, l1_ratio=0.2;, score=0.541 total time=   0.0s\n",
      "[CV 2/5] END .............alpha=1, l1_ratio=0.2;, score=0.599 total time=   0.0s\n",
      "[CV 3/5] END .............alpha=1, l1_ratio=0.2;, score=0.493 total time=   0.0s\n",
      "[CV 4/5] END .............alpha=1, l1_ratio=0.2;, score=0.493 total time=   0.0s\n",
      "[CV 5/5] END .............alpha=1, l1_ratio=0.2;, score=0.532 total time=   0.0s\n",
      "[CV 1/5] END .............alpha=1, l1_ratio=0.3;, score=0.547 total time=   0.0s\n",
      "[CV 2/5] END .............alpha=1, l1_ratio=0.3;, score=0.604 total time=   0.0s\n",
      "[CV 3/5] END .............alpha=1, l1_ratio=0.3;, score=0.500 total time=   0.0s\n",
      "[CV 4/5] END .............alpha=1, l1_ratio=0.3;, score=0.499 total time=   0.0s\n",
      "[CV 5/5] END .............alpha=1, l1_ratio=0.3;, score=0.538 total time=   0.0s\n"
     ]
    },
    {
     "data": {
      "text/html": [
       "<style>#sk-container-id-10 {\n",
       "  /* Definition of color scheme common for light and dark mode */\n",
       "  --sklearn-color-text: black;\n",
       "  --sklearn-color-line: gray;\n",
       "  /* Definition of color scheme for unfitted estimators */\n",
       "  --sklearn-color-unfitted-level-0: #fff5e6;\n",
       "  --sklearn-color-unfitted-level-1: #f6e4d2;\n",
       "  --sklearn-color-unfitted-level-2: #ffe0b3;\n",
       "  --sklearn-color-unfitted-level-3: chocolate;\n",
       "  /* Definition of color scheme for fitted estimators */\n",
       "  --sklearn-color-fitted-level-0: #f0f8ff;\n",
       "  --sklearn-color-fitted-level-1: #d4ebff;\n",
       "  --sklearn-color-fitted-level-2: #b3dbfd;\n",
       "  --sklearn-color-fitted-level-3: cornflowerblue;\n",
       "\n",
       "  /* Specific color for light theme */\n",
       "  --sklearn-color-text-on-default-background: var(--sg-text-color, var(--theme-code-foreground, var(--jp-content-font-color1, black)));\n",
       "  --sklearn-color-background: var(--sg-background-color, var(--theme-background, var(--jp-layout-color0, white)));\n",
       "  --sklearn-color-border-box: var(--sg-text-color, var(--theme-code-foreground, var(--jp-content-font-color1, black)));\n",
       "  --sklearn-color-icon: #696969;\n",
       "\n",
       "  @media (prefers-color-scheme: dark) {\n",
       "    /* Redefinition of color scheme for dark theme */\n",
       "    --sklearn-color-text-on-default-background: var(--sg-text-color, var(--theme-code-foreground, var(--jp-content-font-color1, white)));\n",
       "    --sklearn-color-background: var(--sg-background-color, var(--theme-background, var(--jp-layout-color0, #111)));\n",
       "    --sklearn-color-border-box: var(--sg-text-color, var(--theme-code-foreground, var(--jp-content-font-color1, white)));\n",
       "    --sklearn-color-icon: #878787;\n",
       "  }\n",
       "}\n",
       "\n",
       "#sk-container-id-10 {\n",
       "  color: var(--sklearn-color-text);\n",
       "}\n",
       "\n",
       "#sk-container-id-10 pre {\n",
       "  padding: 0;\n",
       "}\n",
       "\n",
       "#sk-container-id-10 input.sk-hidden--visually {\n",
       "  border: 0;\n",
       "  clip: rect(1px 1px 1px 1px);\n",
       "  clip: rect(1px, 1px, 1px, 1px);\n",
       "  height: 1px;\n",
       "  margin: -1px;\n",
       "  overflow: hidden;\n",
       "  padding: 0;\n",
       "  position: absolute;\n",
       "  width: 1px;\n",
       "}\n",
       "\n",
       "#sk-container-id-10 div.sk-dashed-wrapped {\n",
       "  border: 1px dashed var(--sklearn-color-line);\n",
       "  margin: 0 0.4em 0.5em 0.4em;\n",
       "  box-sizing: border-box;\n",
       "  padding-bottom: 0.4em;\n",
       "  background-color: var(--sklearn-color-background);\n",
       "}\n",
       "\n",
       "#sk-container-id-10 div.sk-container {\n",
       "  /* jupyter's `normalize.less` sets `[hidden] { display: none; }`\n",
       "     but bootstrap.min.css set `[hidden] { display: none !important; }`\n",
       "     so we also need the `!important` here to be able to override the\n",
       "     default hidden behavior on the sphinx rendered scikit-learn.org.\n",
       "     See: https://github.com/scikit-learn/scikit-learn/issues/21755 */\n",
       "  display: inline-block !important;\n",
       "  position: relative;\n",
       "}\n",
       "\n",
       "#sk-container-id-10 div.sk-text-repr-fallback {\n",
       "  display: none;\n",
       "}\n",
       "\n",
       "div.sk-parallel-item,\n",
       "div.sk-serial,\n",
       "div.sk-item {\n",
       "  /* draw centered vertical line to link estimators */\n",
       "  background-image: linear-gradient(var(--sklearn-color-text-on-default-background), var(--sklearn-color-text-on-default-background));\n",
       "  background-size: 2px 100%;\n",
       "  background-repeat: no-repeat;\n",
       "  background-position: center center;\n",
       "}\n",
       "\n",
       "/* Parallel-specific style estimator block */\n",
       "\n",
       "#sk-container-id-10 div.sk-parallel-item::after {\n",
       "  content: \"\";\n",
       "  width: 100%;\n",
       "  border-bottom: 2px solid var(--sklearn-color-text-on-default-background);\n",
       "  flex-grow: 1;\n",
       "}\n",
       "\n",
       "#sk-container-id-10 div.sk-parallel {\n",
       "  display: flex;\n",
       "  align-items: stretch;\n",
       "  justify-content: center;\n",
       "  background-color: var(--sklearn-color-background);\n",
       "  position: relative;\n",
       "}\n",
       "\n",
       "#sk-container-id-10 div.sk-parallel-item {\n",
       "  display: flex;\n",
       "  flex-direction: column;\n",
       "}\n",
       "\n",
       "#sk-container-id-10 div.sk-parallel-item:first-child::after {\n",
       "  align-self: flex-end;\n",
       "  width: 50%;\n",
       "}\n",
       "\n",
       "#sk-container-id-10 div.sk-parallel-item:last-child::after {\n",
       "  align-self: flex-start;\n",
       "  width: 50%;\n",
       "}\n",
       "\n",
       "#sk-container-id-10 div.sk-parallel-item:only-child::after {\n",
       "  width: 0;\n",
       "}\n",
       "\n",
       "/* Serial-specific style estimator block */\n",
       "\n",
       "#sk-container-id-10 div.sk-serial {\n",
       "  display: flex;\n",
       "  flex-direction: column;\n",
       "  align-items: center;\n",
       "  background-color: var(--sklearn-color-background);\n",
       "  padding-right: 1em;\n",
       "  padding-left: 1em;\n",
       "}\n",
       "\n",
       "\n",
       "/* Toggleable style: style used for estimator/Pipeline/ColumnTransformer box that is\n",
       "clickable and can be expanded/collapsed.\n",
       "- Pipeline and ColumnTransformer use this feature and define the default style\n",
       "- Estimators will overwrite some part of the style using the `sk-estimator` class\n",
       "*/\n",
       "\n",
       "/* Pipeline and ColumnTransformer style (default) */\n",
       "\n",
       "#sk-container-id-10 div.sk-toggleable {\n",
       "  /* Default theme specific background. It is overwritten whether we have a\n",
       "  specific estimator or a Pipeline/ColumnTransformer */\n",
       "  background-color: var(--sklearn-color-background);\n",
       "}\n",
       "\n",
       "/* Toggleable label */\n",
       "#sk-container-id-10 label.sk-toggleable__label {\n",
       "  cursor: pointer;\n",
       "  display: block;\n",
       "  width: 100%;\n",
       "  margin-bottom: 0;\n",
       "  padding: 0.5em;\n",
       "  box-sizing: border-box;\n",
       "  text-align: center;\n",
       "}\n",
       "\n",
       "#sk-container-id-10 label.sk-toggleable__label-arrow:before {\n",
       "  /* Arrow on the left of the label */\n",
       "  content: \"▸\";\n",
       "  float: left;\n",
       "  margin-right: 0.25em;\n",
       "  color: var(--sklearn-color-icon);\n",
       "}\n",
       "\n",
       "#sk-container-id-10 label.sk-toggleable__label-arrow:hover:before {\n",
       "  color: var(--sklearn-color-text);\n",
       "}\n",
       "\n",
       "/* Toggleable content - dropdown */\n",
       "\n",
       "#sk-container-id-10 div.sk-toggleable__content {\n",
       "  max-height: 0;\n",
       "  max-width: 0;\n",
       "  overflow: hidden;\n",
       "  text-align: left;\n",
       "  /* unfitted */\n",
       "  background-color: var(--sklearn-color-unfitted-level-0);\n",
       "}\n",
       "\n",
       "#sk-container-id-10 div.sk-toggleable__content.fitted {\n",
       "  /* fitted */\n",
       "  background-color: var(--sklearn-color-fitted-level-0);\n",
       "}\n",
       "\n",
       "#sk-container-id-10 div.sk-toggleable__content pre {\n",
       "  margin: 0.2em;\n",
       "  border-radius: 0.25em;\n",
       "  color: var(--sklearn-color-text);\n",
       "  /* unfitted */\n",
       "  background-color: var(--sklearn-color-unfitted-level-0);\n",
       "}\n",
       "\n",
       "#sk-container-id-10 div.sk-toggleable__content.fitted pre {\n",
       "  /* unfitted */\n",
       "  background-color: var(--sklearn-color-fitted-level-0);\n",
       "}\n",
       "\n",
       "#sk-container-id-10 input.sk-toggleable__control:checked~div.sk-toggleable__content {\n",
       "  /* Expand drop-down */\n",
       "  max-height: 200px;\n",
       "  max-width: 100%;\n",
       "  overflow: auto;\n",
       "}\n",
       "\n",
       "#sk-container-id-10 input.sk-toggleable__control:checked~label.sk-toggleable__label-arrow:before {\n",
       "  content: \"▾\";\n",
       "}\n",
       "\n",
       "/* Pipeline/ColumnTransformer-specific style */\n",
       "\n",
       "#sk-container-id-10 div.sk-label input.sk-toggleable__control:checked~label.sk-toggleable__label {\n",
       "  color: var(--sklearn-color-text);\n",
       "  background-color: var(--sklearn-color-unfitted-level-2);\n",
       "}\n",
       "\n",
       "#sk-container-id-10 div.sk-label.fitted input.sk-toggleable__control:checked~label.sk-toggleable__label {\n",
       "  background-color: var(--sklearn-color-fitted-level-2);\n",
       "}\n",
       "\n",
       "/* Estimator-specific style */\n",
       "\n",
       "/* Colorize estimator box */\n",
       "#sk-container-id-10 div.sk-estimator input.sk-toggleable__control:checked~label.sk-toggleable__label {\n",
       "  /* unfitted */\n",
       "  background-color: var(--sklearn-color-unfitted-level-2);\n",
       "}\n",
       "\n",
       "#sk-container-id-10 div.sk-estimator.fitted input.sk-toggleable__control:checked~label.sk-toggleable__label {\n",
       "  /* fitted */\n",
       "  background-color: var(--sklearn-color-fitted-level-2);\n",
       "}\n",
       "\n",
       "#sk-container-id-10 div.sk-label label.sk-toggleable__label,\n",
       "#sk-container-id-10 div.sk-label label {\n",
       "  /* The background is the default theme color */\n",
       "  color: var(--sklearn-color-text-on-default-background);\n",
       "}\n",
       "\n",
       "/* On hover, darken the color of the background */\n",
       "#sk-container-id-10 div.sk-label:hover label.sk-toggleable__label {\n",
       "  color: var(--sklearn-color-text);\n",
       "  background-color: var(--sklearn-color-unfitted-level-2);\n",
       "}\n",
       "\n",
       "/* Label box, darken color on hover, fitted */\n",
       "#sk-container-id-10 div.sk-label.fitted:hover label.sk-toggleable__label.fitted {\n",
       "  color: var(--sklearn-color-text);\n",
       "  background-color: var(--sklearn-color-fitted-level-2);\n",
       "}\n",
       "\n",
       "/* Estimator label */\n",
       "\n",
       "#sk-container-id-10 div.sk-label label {\n",
       "  font-family: monospace;\n",
       "  font-weight: bold;\n",
       "  display: inline-block;\n",
       "  line-height: 1.2em;\n",
       "}\n",
       "\n",
       "#sk-container-id-10 div.sk-label-container {\n",
       "  text-align: center;\n",
       "}\n",
       "\n",
       "/* Estimator-specific */\n",
       "#sk-container-id-10 div.sk-estimator {\n",
       "  font-family: monospace;\n",
       "  border: 1px dotted var(--sklearn-color-border-box);\n",
       "  border-radius: 0.25em;\n",
       "  box-sizing: border-box;\n",
       "  margin-bottom: 0.5em;\n",
       "  /* unfitted */\n",
       "  background-color: var(--sklearn-color-unfitted-level-0);\n",
       "}\n",
       "\n",
       "#sk-container-id-10 div.sk-estimator.fitted {\n",
       "  /* fitted */\n",
       "  background-color: var(--sklearn-color-fitted-level-0);\n",
       "}\n",
       "\n",
       "/* on hover */\n",
       "#sk-container-id-10 div.sk-estimator:hover {\n",
       "  /* unfitted */\n",
       "  background-color: var(--sklearn-color-unfitted-level-2);\n",
       "}\n",
       "\n",
       "#sk-container-id-10 div.sk-estimator.fitted:hover {\n",
       "  /* fitted */\n",
       "  background-color: var(--sklearn-color-fitted-level-2);\n",
       "}\n",
       "\n",
       "/* Specification for estimator info (e.g. \"i\" and \"?\") */\n",
       "\n",
       "/* Common style for \"i\" and \"?\" */\n",
       "\n",
       ".sk-estimator-doc-link,\n",
       "a:link.sk-estimator-doc-link,\n",
       "a:visited.sk-estimator-doc-link {\n",
       "  float: right;\n",
       "  font-size: smaller;\n",
       "  line-height: 1em;\n",
       "  font-family: monospace;\n",
       "  background-color: var(--sklearn-color-background);\n",
       "  border-radius: 1em;\n",
       "  height: 1em;\n",
       "  width: 1em;\n",
       "  text-decoration: none !important;\n",
       "  margin-left: 1ex;\n",
       "  /* unfitted */\n",
       "  border: var(--sklearn-color-unfitted-level-1) 1pt solid;\n",
       "  color: var(--sklearn-color-unfitted-level-1);\n",
       "}\n",
       "\n",
       ".sk-estimator-doc-link.fitted,\n",
       "a:link.sk-estimator-doc-link.fitted,\n",
       "a:visited.sk-estimator-doc-link.fitted {\n",
       "  /* fitted */\n",
       "  border: var(--sklearn-color-fitted-level-1) 1pt solid;\n",
       "  color: var(--sklearn-color-fitted-level-1);\n",
       "}\n",
       "\n",
       "/* On hover */\n",
       "div.sk-estimator:hover .sk-estimator-doc-link:hover,\n",
       ".sk-estimator-doc-link:hover,\n",
       "div.sk-label-container:hover .sk-estimator-doc-link:hover,\n",
       ".sk-estimator-doc-link:hover {\n",
       "  /* unfitted */\n",
       "  background-color: var(--sklearn-color-unfitted-level-3);\n",
       "  color: var(--sklearn-color-background);\n",
       "  text-decoration: none;\n",
       "}\n",
       "\n",
       "div.sk-estimator.fitted:hover .sk-estimator-doc-link.fitted:hover,\n",
       ".sk-estimator-doc-link.fitted:hover,\n",
       "div.sk-label-container:hover .sk-estimator-doc-link.fitted:hover,\n",
       ".sk-estimator-doc-link.fitted:hover {\n",
       "  /* fitted */\n",
       "  background-color: var(--sklearn-color-fitted-level-3);\n",
       "  color: var(--sklearn-color-background);\n",
       "  text-decoration: none;\n",
       "}\n",
       "\n",
       "/* Span, style for the box shown on hovering the info icon */\n",
       ".sk-estimator-doc-link span {\n",
       "  display: none;\n",
       "  z-index: 9999;\n",
       "  position: relative;\n",
       "  font-weight: normal;\n",
       "  right: .2ex;\n",
       "  padding: .5ex;\n",
       "  margin: .5ex;\n",
       "  width: min-content;\n",
       "  min-width: 20ex;\n",
       "  max-width: 50ex;\n",
       "  color: var(--sklearn-color-text);\n",
       "  box-shadow: 2pt 2pt 4pt #999;\n",
       "  /* unfitted */\n",
       "  background: var(--sklearn-color-unfitted-level-0);\n",
       "  border: .5pt solid var(--sklearn-color-unfitted-level-3);\n",
       "}\n",
       "\n",
       ".sk-estimator-doc-link.fitted span {\n",
       "  /* fitted */\n",
       "  background: var(--sklearn-color-fitted-level-0);\n",
       "  border: var(--sklearn-color-fitted-level-3);\n",
       "}\n",
       "\n",
       ".sk-estimator-doc-link:hover span {\n",
       "  display: block;\n",
       "}\n",
       "\n",
       "/* \"?\"-specific style due to the `<a>` HTML tag */\n",
       "\n",
       "#sk-container-id-10 a.estimator_doc_link {\n",
       "  float: right;\n",
       "  font-size: 1rem;\n",
       "  line-height: 1em;\n",
       "  font-family: monospace;\n",
       "  background-color: var(--sklearn-color-background);\n",
       "  border-radius: 1rem;\n",
       "  height: 1rem;\n",
       "  width: 1rem;\n",
       "  text-decoration: none;\n",
       "  /* unfitted */\n",
       "  color: var(--sklearn-color-unfitted-level-1);\n",
       "  border: var(--sklearn-color-unfitted-level-1) 1pt solid;\n",
       "}\n",
       "\n",
       "#sk-container-id-10 a.estimator_doc_link.fitted {\n",
       "  /* fitted */\n",
       "  border: var(--sklearn-color-fitted-level-1) 1pt solid;\n",
       "  color: var(--sklearn-color-fitted-level-1);\n",
       "}\n",
       "\n",
       "/* On hover */\n",
       "#sk-container-id-10 a.estimator_doc_link:hover {\n",
       "  /* unfitted */\n",
       "  background-color: var(--sklearn-color-unfitted-level-3);\n",
       "  color: var(--sklearn-color-background);\n",
       "  text-decoration: none;\n",
       "}\n",
       "\n",
       "#sk-container-id-10 a.estimator_doc_link.fitted:hover {\n",
       "  /* fitted */\n",
       "  background-color: var(--sklearn-color-fitted-level-3);\n",
       "}\n",
       "</style><div id=\"sk-container-id-10\" class=\"sk-top-container\"><div class=\"sk-text-repr-fallback\"><pre>GridSearchCV(cv=5, estimator=ElasticNet(),\n",
       "             param_grid={&#x27;alpha&#x27;: [0.01, 0.05, 0.1, 0.5, 1],\n",
       "                         &#x27;l1_ratio&#x27;: [0.05, 0.1, 0.2, 0.3]},\n",
       "             scoring=&#x27;r2&#x27;, verbose=3)</pre><b>In a Jupyter environment, please rerun this cell to show the HTML representation or trust the notebook. <br />On GitHub, the HTML representation is unable to render, please try loading this page with nbviewer.org.</b></div><div class=\"sk-container\" hidden><div class=\"sk-item sk-dashed-wrapped\"><div class=\"sk-label-container\"><div class=\"sk-label fitted sk-toggleable\"><input class=\"sk-toggleable__control sk-hidden--visually\" id=\"sk-estimator-id-14\" type=\"checkbox\" ><label for=\"sk-estimator-id-14\" class=\"sk-toggleable__label fitted sk-toggleable__label-arrow fitted\">&nbsp;&nbsp;GridSearchCV<a class=\"sk-estimator-doc-link fitted\" rel=\"noreferrer\" target=\"_blank\" href=\"https://scikit-learn.org/1.5/modules/generated/sklearn.model_selection.GridSearchCV.html\">?<span>Documentation for GridSearchCV</span></a><span class=\"sk-estimator-doc-link fitted\">i<span>Fitted</span></span></label><div class=\"sk-toggleable__content fitted\"><pre>GridSearchCV(cv=5, estimator=ElasticNet(),\n",
       "             param_grid={&#x27;alpha&#x27;: [0.01, 0.05, 0.1, 0.5, 1],\n",
       "                         &#x27;l1_ratio&#x27;: [0.05, 0.1, 0.2, 0.3]},\n",
       "             scoring=&#x27;r2&#x27;, verbose=3)</pre></div> </div></div><div class=\"sk-parallel\"><div class=\"sk-parallel-item\"><div class=\"sk-item\"><div class=\"sk-label-container\"><div class=\"sk-label fitted sk-toggleable\"><input class=\"sk-toggleable__control sk-hidden--visually\" id=\"sk-estimator-id-15\" type=\"checkbox\" ><label for=\"sk-estimator-id-15\" class=\"sk-toggleable__label fitted sk-toggleable__label-arrow fitted\">best_estimator_: ElasticNet</label><div class=\"sk-toggleable__content fitted\"><pre>ElasticNet(alpha=0.01, l1_ratio=0.3)</pre></div> </div></div><div class=\"sk-serial\"><div class=\"sk-item\"><div class=\"sk-estimator fitted sk-toggleable\"><input class=\"sk-toggleable__control sk-hidden--visually\" id=\"sk-estimator-id-16\" type=\"checkbox\" ><label for=\"sk-estimator-id-16\" class=\"sk-toggleable__label fitted sk-toggleable__label-arrow fitted\">&nbsp;ElasticNet<a class=\"sk-estimator-doc-link fitted\" rel=\"noreferrer\" target=\"_blank\" href=\"https://scikit-learn.org/1.5/modules/generated/sklearn.linear_model.ElasticNet.html\">?<span>Documentation for ElasticNet</span></a></label><div class=\"sk-toggleable__content fitted\"><pre>ElasticNet(alpha=0.01, l1_ratio=0.3)</pre></div> </div></div></div></div></div></div></div></div></div>"
      ],
      "text/plain": [
       "GridSearchCV(cv=5, estimator=ElasticNet(),\n",
       "             param_grid={'alpha': [0.01, 0.05, 0.1, 0.5, 1],\n",
       "                         'l1_ratio': [0.05, 0.1, 0.2, 0.3]},\n",
       "             scoring='r2', verbose=3)"
      ]
     },
     "execution_count": 218,
     "metadata": {},
     "output_type": "execute_result"
    }
   ],
   "source": [
    "gscv.fit(x_train,y_train)"
   ]
  },
  {
   "cell_type": "code",
   "execution_count": 219,
   "metadata": {},
   "outputs": [
    {
     "data": {
      "text/plain": [
       "np.float64(0.7067653126229594)"
      ]
     },
     "execution_count": 219,
     "metadata": {},
     "output_type": "execute_result"
    }
   ],
   "source": [
    "gscv.best_score_"
   ]
  },
  {
   "cell_type": "markdown",
   "metadata": {},
   "source": [
    "# Gradient Descent"
   ]
  },
  {
   "cell_type": "code",
   "execution_count": 220,
   "metadata": {},
   "outputs": [
    {
     "name": "stdout",
     "output_type": "stream",
     "text": [
      "OLS : Train Score 0.713053912579235\n",
      "OLS : Test Score 0.7022495753418871\n"
     ]
    }
   ],
   "source": [
    "# check scores from OLS model\n",
    "\n",
    "print('OLS : Train Score',model_lr.score(x_train,y_train))\n",
    "\n",
    "print('OLS : Test Score',model_lr.score(x_test,y_test))"
   ]
  },
  {
   "cell_type": "code",
   "execution_count": 221,
   "metadata": {},
   "outputs": [
    {
     "data": {
      "text/html": [
       "<div>\n",
       "<style scoped>\n",
       "    .dataframe tbody tr th:only-of-type {\n",
       "        vertical-align: middle;\n",
       "    }\n",
       "\n",
       "    .dataframe tbody tr th {\n",
       "        vertical-align: top;\n",
       "    }\n",
       "\n",
       "    .dataframe thead th {\n",
       "        text-align: right;\n",
       "    }\n",
       "</style>\n",
       "<table border=\"1\" class=\"dataframe\">\n",
       "  <thead>\n",
       "    <tr style=\"text-align: right;\">\n",
       "      <th></th>\n",
       "      <th>COef_OLS</th>\n",
       "    </tr>\n",
       "  </thead>\n",
       "  <tbody>\n",
       "    <tr>\n",
       "      <th>Slag</th>\n",
       "      <td>0.081387</td>\n",
       "    </tr>\n",
       "    <tr>\n",
       "      <th>Fly_Ash</th>\n",
       "      <td>0.078953</td>\n",
       "    </tr>\n",
       "    <tr>\n",
       "      <th>Superplasticizer</th>\n",
       "      <td>0.196101</td>\n",
       "    </tr>\n",
       "    <tr>\n",
       "      <th>Age</th>\n",
       "      <td>0.239964</td>\n",
       "    </tr>\n",
       "    <tr>\n",
       "      <th>Cemwat</th>\n",
       "      <td>19.171895</td>\n",
       "    </tr>\n",
       "  </tbody>\n",
       "</table>\n",
       "</div>"
      ],
      "text/plain": [
       "                   COef_OLS\n",
       "Slag               0.081387\n",
       "Fly_Ash            0.078953\n",
       "Superplasticizer   0.196101\n",
       "Age                0.239964\n",
       "Cemwat            19.171895"
      ]
     },
     "execution_count": 221,
     "metadata": {},
     "output_type": "execute_result"
    }
   ],
   "source": [
    "pd.DataFrame({'COef_OLS':model_lr.coef_},index=x.columns)"
   ]
  },
  {
   "cell_type": "code",
   "execution_count": 222,
   "metadata": {},
   "outputs": [],
   "source": [
    "from sklearn.linear_model import SGDRegressor\n",
    "from sklearn.preprocessing import StandardScaler"
   ]
  },
  {
   "cell_type": "code",
   "execution_count": 228,
   "metadata": {},
   "outputs": [],
   "source": [
    "# use the scaled data\n",
    "sc=StandardScaler()\n",
    "x_train_s=sc.fit_transform(x_train)\n",
    "x_test_s=sc.transform(x_test)"
   ]
  },
  {
   "cell_type": "code",
   "execution_count": 229,
   "metadata": {},
   "outputs": [],
   "source": [
    "x_train_s=pd.DataFrame(x_train_s,columns=x.columns)\n",
    "x_test_s=pd.DataFrame(x_test_s,columns=x.columns)"
   ]
  },
  {
   "cell_type": "code",
   "execution_count": 230,
   "metadata": {},
   "outputs": [],
   "source": [
    "model_SGD=SGDRegressor(eta0=0.1,alpha=0.01)"
   ]
  },
  {
   "cell_type": "code",
   "execution_count": 231,
   "metadata": {},
   "outputs": [
    {
     "data": {
      "text/html": [
       "<style>#sk-container-id-12 {\n",
       "  /* Definition of color scheme common for light and dark mode */\n",
       "  --sklearn-color-text: black;\n",
       "  --sklearn-color-line: gray;\n",
       "  /* Definition of color scheme for unfitted estimators */\n",
       "  --sklearn-color-unfitted-level-0: #fff5e6;\n",
       "  --sklearn-color-unfitted-level-1: #f6e4d2;\n",
       "  --sklearn-color-unfitted-level-2: #ffe0b3;\n",
       "  --sklearn-color-unfitted-level-3: chocolate;\n",
       "  /* Definition of color scheme for fitted estimators */\n",
       "  --sklearn-color-fitted-level-0: #f0f8ff;\n",
       "  --sklearn-color-fitted-level-1: #d4ebff;\n",
       "  --sklearn-color-fitted-level-2: #b3dbfd;\n",
       "  --sklearn-color-fitted-level-3: cornflowerblue;\n",
       "\n",
       "  /* Specific color for light theme */\n",
       "  --sklearn-color-text-on-default-background: var(--sg-text-color, var(--theme-code-foreground, var(--jp-content-font-color1, black)));\n",
       "  --sklearn-color-background: var(--sg-background-color, var(--theme-background, var(--jp-layout-color0, white)));\n",
       "  --sklearn-color-border-box: var(--sg-text-color, var(--theme-code-foreground, var(--jp-content-font-color1, black)));\n",
       "  --sklearn-color-icon: #696969;\n",
       "\n",
       "  @media (prefers-color-scheme: dark) {\n",
       "    /* Redefinition of color scheme for dark theme */\n",
       "    --sklearn-color-text-on-default-background: var(--sg-text-color, var(--theme-code-foreground, var(--jp-content-font-color1, white)));\n",
       "    --sklearn-color-background: var(--sg-background-color, var(--theme-background, var(--jp-layout-color0, #111)));\n",
       "    --sklearn-color-border-box: var(--sg-text-color, var(--theme-code-foreground, var(--jp-content-font-color1, white)));\n",
       "    --sklearn-color-icon: #878787;\n",
       "  }\n",
       "}\n",
       "\n",
       "#sk-container-id-12 {\n",
       "  color: var(--sklearn-color-text);\n",
       "}\n",
       "\n",
       "#sk-container-id-12 pre {\n",
       "  padding: 0;\n",
       "}\n",
       "\n",
       "#sk-container-id-12 input.sk-hidden--visually {\n",
       "  border: 0;\n",
       "  clip: rect(1px 1px 1px 1px);\n",
       "  clip: rect(1px, 1px, 1px, 1px);\n",
       "  height: 1px;\n",
       "  margin: -1px;\n",
       "  overflow: hidden;\n",
       "  padding: 0;\n",
       "  position: absolute;\n",
       "  width: 1px;\n",
       "}\n",
       "\n",
       "#sk-container-id-12 div.sk-dashed-wrapped {\n",
       "  border: 1px dashed var(--sklearn-color-line);\n",
       "  margin: 0 0.4em 0.5em 0.4em;\n",
       "  box-sizing: border-box;\n",
       "  padding-bottom: 0.4em;\n",
       "  background-color: var(--sklearn-color-background);\n",
       "}\n",
       "\n",
       "#sk-container-id-12 div.sk-container {\n",
       "  /* jupyter's `normalize.less` sets `[hidden] { display: none; }`\n",
       "     but bootstrap.min.css set `[hidden] { display: none !important; }`\n",
       "     so we also need the `!important` here to be able to override the\n",
       "     default hidden behavior on the sphinx rendered scikit-learn.org.\n",
       "     See: https://github.com/scikit-learn/scikit-learn/issues/21755 */\n",
       "  display: inline-block !important;\n",
       "  position: relative;\n",
       "}\n",
       "\n",
       "#sk-container-id-12 div.sk-text-repr-fallback {\n",
       "  display: none;\n",
       "}\n",
       "\n",
       "div.sk-parallel-item,\n",
       "div.sk-serial,\n",
       "div.sk-item {\n",
       "  /* draw centered vertical line to link estimators */\n",
       "  background-image: linear-gradient(var(--sklearn-color-text-on-default-background), var(--sklearn-color-text-on-default-background));\n",
       "  background-size: 2px 100%;\n",
       "  background-repeat: no-repeat;\n",
       "  background-position: center center;\n",
       "}\n",
       "\n",
       "/* Parallel-specific style estimator block */\n",
       "\n",
       "#sk-container-id-12 div.sk-parallel-item::after {\n",
       "  content: \"\";\n",
       "  width: 100%;\n",
       "  border-bottom: 2px solid var(--sklearn-color-text-on-default-background);\n",
       "  flex-grow: 1;\n",
       "}\n",
       "\n",
       "#sk-container-id-12 div.sk-parallel {\n",
       "  display: flex;\n",
       "  align-items: stretch;\n",
       "  justify-content: center;\n",
       "  background-color: var(--sklearn-color-background);\n",
       "  position: relative;\n",
       "}\n",
       "\n",
       "#sk-container-id-12 div.sk-parallel-item {\n",
       "  display: flex;\n",
       "  flex-direction: column;\n",
       "}\n",
       "\n",
       "#sk-container-id-12 div.sk-parallel-item:first-child::after {\n",
       "  align-self: flex-end;\n",
       "  width: 50%;\n",
       "}\n",
       "\n",
       "#sk-container-id-12 div.sk-parallel-item:last-child::after {\n",
       "  align-self: flex-start;\n",
       "  width: 50%;\n",
       "}\n",
       "\n",
       "#sk-container-id-12 div.sk-parallel-item:only-child::after {\n",
       "  width: 0;\n",
       "}\n",
       "\n",
       "/* Serial-specific style estimator block */\n",
       "\n",
       "#sk-container-id-12 div.sk-serial {\n",
       "  display: flex;\n",
       "  flex-direction: column;\n",
       "  align-items: center;\n",
       "  background-color: var(--sklearn-color-background);\n",
       "  padding-right: 1em;\n",
       "  padding-left: 1em;\n",
       "}\n",
       "\n",
       "\n",
       "/* Toggleable style: style used for estimator/Pipeline/ColumnTransformer box that is\n",
       "clickable and can be expanded/collapsed.\n",
       "- Pipeline and ColumnTransformer use this feature and define the default style\n",
       "- Estimators will overwrite some part of the style using the `sk-estimator` class\n",
       "*/\n",
       "\n",
       "/* Pipeline and ColumnTransformer style (default) */\n",
       "\n",
       "#sk-container-id-12 div.sk-toggleable {\n",
       "  /* Default theme specific background. It is overwritten whether we have a\n",
       "  specific estimator or a Pipeline/ColumnTransformer */\n",
       "  background-color: var(--sklearn-color-background);\n",
       "}\n",
       "\n",
       "/* Toggleable label */\n",
       "#sk-container-id-12 label.sk-toggleable__label {\n",
       "  cursor: pointer;\n",
       "  display: block;\n",
       "  width: 100%;\n",
       "  margin-bottom: 0;\n",
       "  padding: 0.5em;\n",
       "  box-sizing: border-box;\n",
       "  text-align: center;\n",
       "}\n",
       "\n",
       "#sk-container-id-12 label.sk-toggleable__label-arrow:before {\n",
       "  /* Arrow on the left of the label */\n",
       "  content: \"▸\";\n",
       "  float: left;\n",
       "  margin-right: 0.25em;\n",
       "  color: var(--sklearn-color-icon);\n",
       "}\n",
       "\n",
       "#sk-container-id-12 label.sk-toggleable__label-arrow:hover:before {\n",
       "  color: var(--sklearn-color-text);\n",
       "}\n",
       "\n",
       "/* Toggleable content - dropdown */\n",
       "\n",
       "#sk-container-id-12 div.sk-toggleable__content {\n",
       "  max-height: 0;\n",
       "  max-width: 0;\n",
       "  overflow: hidden;\n",
       "  text-align: left;\n",
       "  /* unfitted */\n",
       "  background-color: var(--sklearn-color-unfitted-level-0);\n",
       "}\n",
       "\n",
       "#sk-container-id-12 div.sk-toggleable__content.fitted {\n",
       "  /* fitted */\n",
       "  background-color: var(--sklearn-color-fitted-level-0);\n",
       "}\n",
       "\n",
       "#sk-container-id-12 div.sk-toggleable__content pre {\n",
       "  margin: 0.2em;\n",
       "  border-radius: 0.25em;\n",
       "  color: var(--sklearn-color-text);\n",
       "  /* unfitted */\n",
       "  background-color: var(--sklearn-color-unfitted-level-0);\n",
       "}\n",
       "\n",
       "#sk-container-id-12 div.sk-toggleable__content.fitted pre {\n",
       "  /* unfitted */\n",
       "  background-color: var(--sklearn-color-fitted-level-0);\n",
       "}\n",
       "\n",
       "#sk-container-id-12 input.sk-toggleable__control:checked~div.sk-toggleable__content {\n",
       "  /* Expand drop-down */\n",
       "  max-height: 200px;\n",
       "  max-width: 100%;\n",
       "  overflow: auto;\n",
       "}\n",
       "\n",
       "#sk-container-id-12 input.sk-toggleable__control:checked~label.sk-toggleable__label-arrow:before {\n",
       "  content: \"▾\";\n",
       "}\n",
       "\n",
       "/* Pipeline/ColumnTransformer-specific style */\n",
       "\n",
       "#sk-container-id-12 div.sk-label input.sk-toggleable__control:checked~label.sk-toggleable__label {\n",
       "  color: var(--sklearn-color-text);\n",
       "  background-color: var(--sklearn-color-unfitted-level-2);\n",
       "}\n",
       "\n",
       "#sk-container-id-12 div.sk-label.fitted input.sk-toggleable__control:checked~label.sk-toggleable__label {\n",
       "  background-color: var(--sklearn-color-fitted-level-2);\n",
       "}\n",
       "\n",
       "/* Estimator-specific style */\n",
       "\n",
       "/* Colorize estimator box */\n",
       "#sk-container-id-12 div.sk-estimator input.sk-toggleable__control:checked~label.sk-toggleable__label {\n",
       "  /* unfitted */\n",
       "  background-color: var(--sklearn-color-unfitted-level-2);\n",
       "}\n",
       "\n",
       "#sk-container-id-12 div.sk-estimator.fitted input.sk-toggleable__control:checked~label.sk-toggleable__label {\n",
       "  /* fitted */\n",
       "  background-color: var(--sklearn-color-fitted-level-2);\n",
       "}\n",
       "\n",
       "#sk-container-id-12 div.sk-label label.sk-toggleable__label,\n",
       "#sk-container-id-12 div.sk-label label {\n",
       "  /* The background is the default theme color */\n",
       "  color: var(--sklearn-color-text-on-default-background);\n",
       "}\n",
       "\n",
       "/* On hover, darken the color of the background */\n",
       "#sk-container-id-12 div.sk-label:hover label.sk-toggleable__label {\n",
       "  color: var(--sklearn-color-text);\n",
       "  background-color: var(--sklearn-color-unfitted-level-2);\n",
       "}\n",
       "\n",
       "/* Label box, darken color on hover, fitted */\n",
       "#sk-container-id-12 div.sk-label.fitted:hover label.sk-toggleable__label.fitted {\n",
       "  color: var(--sklearn-color-text);\n",
       "  background-color: var(--sklearn-color-fitted-level-2);\n",
       "}\n",
       "\n",
       "/* Estimator label */\n",
       "\n",
       "#sk-container-id-12 div.sk-label label {\n",
       "  font-family: monospace;\n",
       "  font-weight: bold;\n",
       "  display: inline-block;\n",
       "  line-height: 1.2em;\n",
       "}\n",
       "\n",
       "#sk-container-id-12 div.sk-label-container {\n",
       "  text-align: center;\n",
       "}\n",
       "\n",
       "/* Estimator-specific */\n",
       "#sk-container-id-12 div.sk-estimator {\n",
       "  font-family: monospace;\n",
       "  border: 1px dotted var(--sklearn-color-border-box);\n",
       "  border-radius: 0.25em;\n",
       "  box-sizing: border-box;\n",
       "  margin-bottom: 0.5em;\n",
       "  /* unfitted */\n",
       "  background-color: var(--sklearn-color-unfitted-level-0);\n",
       "}\n",
       "\n",
       "#sk-container-id-12 div.sk-estimator.fitted {\n",
       "  /* fitted */\n",
       "  background-color: var(--sklearn-color-fitted-level-0);\n",
       "}\n",
       "\n",
       "/* on hover */\n",
       "#sk-container-id-12 div.sk-estimator:hover {\n",
       "  /* unfitted */\n",
       "  background-color: var(--sklearn-color-unfitted-level-2);\n",
       "}\n",
       "\n",
       "#sk-container-id-12 div.sk-estimator.fitted:hover {\n",
       "  /* fitted */\n",
       "  background-color: var(--sklearn-color-fitted-level-2);\n",
       "}\n",
       "\n",
       "/* Specification for estimator info (e.g. \"i\" and \"?\") */\n",
       "\n",
       "/* Common style for \"i\" and \"?\" */\n",
       "\n",
       ".sk-estimator-doc-link,\n",
       "a:link.sk-estimator-doc-link,\n",
       "a:visited.sk-estimator-doc-link {\n",
       "  float: right;\n",
       "  font-size: smaller;\n",
       "  line-height: 1em;\n",
       "  font-family: monospace;\n",
       "  background-color: var(--sklearn-color-background);\n",
       "  border-radius: 1em;\n",
       "  height: 1em;\n",
       "  width: 1em;\n",
       "  text-decoration: none !important;\n",
       "  margin-left: 1ex;\n",
       "  /* unfitted */\n",
       "  border: var(--sklearn-color-unfitted-level-1) 1pt solid;\n",
       "  color: var(--sklearn-color-unfitted-level-1);\n",
       "}\n",
       "\n",
       ".sk-estimator-doc-link.fitted,\n",
       "a:link.sk-estimator-doc-link.fitted,\n",
       "a:visited.sk-estimator-doc-link.fitted {\n",
       "  /* fitted */\n",
       "  border: var(--sklearn-color-fitted-level-1) 1pt solid;\n",
       "  color: var(--sklearn-color-fitted-level-1);\n",
       "}\n",
       "\n",
       "/* On hover */\n",
       "div.sk-estimator:hover .sk-estimator-doc-link:hover,\n",
       ".sk-estimator-doc-link:hover,\n",
       "div.sk-label-container:hover .sk-estimator-doc-link:hover,\n",
       ".sk-estimator-doc-link:hover {\n",
       "  /* unfitted */\n",
       "  background-color: var(--sklearn-color-unfitted-level-3);\n",
       "  color: var(--sklearn-color-background);\n",
       "  text-decoration: none;\n",
       "}\n",
       "\n",
       "div.sk-estimator.fitted:hover .sk-estimator-doc-link.fitted:hover,\n",
       ".sk-estimator-doc-link.fitted:hover,\n",
       "div.sk-label-container:hover .sk-estimator-doc-link.fitted:hover,\n",
       ".sk-estimator-doc-link.fitted:hover {\n",
       "  /* fitted */\n",
       "  background-color: var(--sklearn-color-fitted-level-3);\n",
       "  color: var(--sklearn-color-background);\n",
       "  text-decoration: none;\n",
       "}\n",
       "\n",
       "/* Span, style for the box shown on hovering the info icon */\n",
       ".sk-estimator-doc-link span {\n",
       "  display: none;\n",
       "  z-index: 9999;\n",
       "  position: relative;\n",
       "  font-weight: normal;\n",
       "  right: .2ex;\n",
       "  padding: .5ex;\n",
       "  margin: .5ex;\n",
       "  width: min-content;\n",
       "  min-width: 20ex;\n",
       "  max-width: 50ex;\n",
       "  color: var(--sklearn-color-text);\n",
       "  box-shadow: 2pt 2pt 4pt #999;\n",
       "  /* unfitted */\n",
       "  background: var(--sklearn-color-unfitted-level-0);\n",
       "  border: .5pt solid var(--sklearn-color-unfitted-level-3);\n",
       "}\n",
       "\n",
       ".sk-estimator-doc-link.fitted span {\n",
       "  /* fitted */\n",
       "  background: var(--sklearn-color-fitted-level-0);\n",
       "  border: var(--sklearn-color-fitted-level-3);\n",
       "}\n",
       "\n",
       ".sk-estimator-doc-link:hover span {\n",
       "  display: block;\n",
       "}\n",
       "\n",
       "/* \"?\"-specific style due to the `<a>` HTML tag */\n",
       "\n",
       "#sk-container-id-12 a.estimator_doc_link {\n",
       "  float: right;\n",
       "  font-size: 1rem;\n",
       "  line-height: 1em;\n",
       "  font-family: monospace;\n",
       "  background-color: var(--sklearn-color-background);\n",
       "  border-radius: 1rem;\n",
       "  height: 1rem;\n",
       "  width: 1rem;\n",
       "  text-decoration: none;\n",
       "  /* unfitted */\n",
       "  color: var(--sklearn-color-unfitted-level-1);\n",
       "  border: var(--sklearn-color-unfitted-level-1) 1pt solid;\n",
       "}\n",
       "\n",
       "#sk-container-id-12 a.estimator_doc_link.fitted {\n",
       "  /* fitted */\n",
       "  border: var(--sklearn-color-fitted-level-1) 1pt solid;\n",
       "  color: var(--sklearn-color-fitted-level-1);\n",
       "}\n",
       "\n",
       "/* On hover */\n",
       "#sk-container-id-12 a.estimator_doc_link:hover {\n",
       "  /* unfitted */\n",
       "  background-color: var(--sklearn-color-unfitted-level-3);\n",
       "  color: var(--sklearn-color-background);\n",
       "  text-decoration: none;\n",
       "}\n",
       "\n",
       "#sk-container-id-12 a.estimator_doc_link.fitted:hover {\n",
       "  /* fitted */\n",
       "  background-color: var(--sklearn-color-fitted-level-3);\n",
       "}\n",
       "</style><div id=\"sk-container-id-12\" class=\"sk-top-container\"><div class=\"sk-text-repr-fallback\"><pre>SGDRegressor(alpha=0.01, eta0=0.1)</pre><b>In a Jupyter environment, please rerun this cell to show the HTML representation or trust the notebook. <br />On GitHub, the HTML representation is unable to render, please try loading this page with nbviewer.org.</b></div><div class=\"sk-container\" hidden><div class=\"sk-item\"><div class=\"sk-estimator fitted sk-toggleable\"><input class=\"sk-toggleable__control sk-hidden--visually\" id=\"sk-estimator-id-18\" type=\"checkbox\" checked><label for=\"sk-estimator-id-18\" class=\"sk-toggleable__label fitted sk-toggleable__label-arrow fitted\">&nbsp;&nbsp;SGDRegressor<a class=\"sk-estimator-doc-link fitted\" rel=\"noreferrer\" target=\"_blank\" href=\"https://scikit-learn.org/1.5/modules/generated/sklearn.linear_model.SGDRegressor.html\">?<span>Documentation for SGDRegressor</span></a><span class=\"sk-estimator-doc-link fitted\">i<span>Fitted</span></span></label><div class=\"sk-toggleable__content fitted\"><pre>SGDRegressor(alpha=0.01, eta0=0.1)</pre></div> </div></div></div></div>"
      ],
      "text/plain": [
       "SGDRegressor(alpha=0.01, eta0=0.1)"
      ]
     },
     "execution_count": 231,
     "metadata": {},
     "output_type": "execute_result"
    }
   ],
   "source": [
    "model_SGD.fit(x_train_s,y_train)"
   ]
  },
  {
   "cell_type": "code",
   "execution_count": 233,
   "metadata": {},
   "outputs": [
    {
     "name": "stdout",
     "output_type": "stream",
     "text": [
      "SGD : Train Score 0.7086695489675494\n",
      "SGD : Test Score 0.7100613906034703\n"
     ]
    }
   ],
   "source": [
    "# Check the Score from Sgd model\n",
    "\n",
    "print('SGD : Train Score',model_SGD.score(x_train_s,y_train))\n",
    "\n",
    "print('SGD : Test Score',model_SGD.score(x_test_s,y_test))"
   ]
  }
 ],
 "metadata": {
  "kernelspec": {
   "display_name": "Python 3",
   "language": "python",
   "name": "python3"
  },
  "language_info": {
   "codemirror_mode": {
    "name": "ipython",
    "version": 3
   },
   "file_extension": ".py",
   "mimetype": "text/x-python",
   "name": "python",
   "nbconvert_exporter": "python",
   "pygments_lexer": "ipython3",
   "version": "3.11.1"
  }
 },
 "nbformat": 4,
 "nbformat_minor": 2
}
